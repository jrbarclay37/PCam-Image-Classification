{
 "cells": [
  {
   "cell_type": "markdown",
   "metadata": {},
   "source": [
    "# Training Image Classification ResNet Model\n",
    "\n",
    "1. [Introduction](#Introduction)\n",
    "2. [Training the Image Classification Model](#Training-the-Image-Classification-Model)\n",
    "    1. [Training parameters](#Training-parameters)\n",
    "    2. [Configure training job](#Configure-training-job)\n",
    "    3. [Launch training job](#Launch-training-job)\n",
    "3. [Model Evaluation](#Model-Evaluation)\n",
    "    1. [Create model](#Create-model)\n",
    "    2. [Batch transform](#Batch-transform)\n",
    "    3. [Analyze prediction results](#Analyze-prediction-results)\n",
    "4. [Conclusion](#Conclusion)\n"
   ]
  },
  {
   "cell_type": "markdown",
   "metadata": {},
   "source": [
    "## 1. Introduction\n",
    "\n",
    "In this notebook, we will use the Amazon sagemaker image classification algorithm to train on the [PatchCamelyon dataset](https://patchcamelyon.grand-challenge.org/). \n",
    "\n",
    "First, we need to set up the linkage and authentication to AWS services. There are three parts to this:\n",
    "\n",
    "* The roles used to give learning and hosting access to your data. This will automatically be obtained from the role used to start the notebook\n",
    "* The S3 bucket that you want to use for training and model data\n",
    "* The Amazon sagemaker image classification docker image which need not be changed"
   ]
  },
  {
   "cell_type": "code",
   "execution_count": 1,
   "metadata": {
    "tags": [
     "parameters"
    ]
   },
   "outputs": [
    {
     "name": "stdout",
     "output_type": "stream",
     "text": [
      "CPU times: user 1.45 s, sys: 156 ms, total: 1.6 s\n",
      "Wall time: 10.6 s\n"
     ]
    }
   ],
   "source": [
    "%%time\n",
    "import io\n",
    "import numpy as np\n",
    "import pickle\n",
    "import s3fs\n",
    "import boto3\n",
    "import re\n",
    "import sagemaker\n",
    "from sagemaker import get_execution_role\n",
    "from sagemaker.amazon.amazon_estimator import get_image_uri\n",
    "from sagemaker.image_uris import retrieve\n",
    "\n",
    "role = get_execution_role()\n",
    "\n",
    "bucket = sagemaker.Session().default_bucket()\n",
    "\n",
    "folder = 'lymph-node-image-classification/'\n",
    "\n",
    "training_image = retrieve(\"image-classification\", boto3.Session().region_name)\n",
    "\n",
    "s3 = s3fs.S3FileSystem()\n",
    "s3_client = boto3.client(\"s3\")"
   ]
  },
  {
   "cell_type": "code",
   "execution_count": 2,
   "metadata": {},
   "outputs": [],
   "source": [
    "# file paths\n",
    "s3_train_key = \"lymph-node-image-classification/train\"\n",
    "s3_validation_key = \"lymph-node-image-classification/validation\"\n",
    "s3_train = \"s3://{}/{}/\".format(bucket, s3_train_key)\n",
    "s3_validation = \"s3://{}/{}/\".format(bucket, s3_validation_key)"
   ]
  },
  {
   "cell_type": "markdown",
   "metadata": {},
   "source": [
    "## 2. Training the Image Classification Model\n",
    "\n",
    "We are using [PatchCamelyon](https://patchcamelyon.grand-challenge.org/) dataset, which contains 327,680 color images (96 x 96px) extracted from histopathologic scans of lymph node sections. Each image is annotated with a binary label indicating presence of metastatic tissue. The train/validation/test split is 80/10/10. \n",
    "\n",
    "We already prepared the data in `Augmented Manifest` format in the previous notebook, so we are ready to start training the model using the best parameters discovered from our hyperparameter tuning.\n",
    "\n",
    "\n",
    "### a) Training parameters\n",
    "First, we will need to specify the parameters for our training job. This includes input specification, output specification, and resource config.\n",
    "\n",
    "We also need to select our hyperparameters from our tuning in the previous notebook:\n",
    "\n",
    "* **num_layers**: The number of layers (depth) for the network. We will use **34**.\n",
    "* **num_training_samples**: This is the total number of training samples, which is **262,144** for our data.\n",
    "* **num_classes**: This is the number of output classes for the new dataset. Our problem is binary, so this will be **2**.\n",
    "* **augmentation_type**: Data augmentation type. We will use **`crop`** to randomly crop and flip the images horizontally\n",
    "* **epochs**: Number of training epochs - **10**\n",
    "* **learning_rate**: Learning rate for training - **0.009**\n",
    "* **lr_scheduler_factor**: The ratio to reduce learning rate used in conjunction with the `lr_scheduler_step` parameter, defined as lr_new = lr_old * lr_scheduler_factor - **0.1**\n",
    "* **lr_scheduler_step**: The epochs at which to reduce the learning rate - **2,6**\n",
    "* **mini_batch_size**: The number of training samples used for each mini batch. In distributed training, the number of training samples used per batch will be N * mini_batch_size where N is the number of hosts on which training is run - **64**\n",
    "* **optimizer**: The optimizer type. `sgd`, `adam`, `rmsprop`, and `nag` are all offered. We will select the popularly used algorithm for computer vision, **`adam`**, a stochastic gradient descent method that is based on adaptive estimation of first-order and second-order moments.\n",
    "* **precision_dtype**: The precision of the weights used for training. We will be using half precision **`(float16)`** instead of single precision `(float32)` in order to reduce memory consumption without sacrificing accuracy.\n",
    "* **use_pretrained_model**: Use transfer learning instead of full training, by initializing weights with a pretrained model - **1**\n",
    "* **eps**: A small constant for numerical stability. The default is 1e-8, but for image classification it is recommended to use a value of 1.0 or 0.1. In this case, we choose **0.1**"
   ]
  },
  {
   "cell_type": "code",
   "execution_count": 3,
   "metadata": {},
   "outputs": [],
   "source": [
    "# Hyperparameters\n",
    "num_layers = \"34\" \n",
    "image_shape = \"3,96,96\" \n",
    "num_training_samples = \"262144\"\n",
    "num_classes = \"2\"\n",
    "mini_batch_size = \"64\" \n",
    "epochs = \"10\"\n",
    "learning_rate = \"0.009\"\n",
    "precision_dtype=\"float16\"\n",
    "augmentation_type=\"crop\" \n",
    "optimizer=\"adam\"\n",
    "lr_scheduler_factor = \"0.1\"\n",
    "lr_scheduler_step = \"2,6\" \n",
    "use_pretrained_model = 1\n",
    "eps = 0.1"
   ]
  },
  {
   "cell_type": "markdown",
   "metadata": {},
   "source": [
    "### b) Configure training job\n",
    "Run the training job using SageMaker's CreateTrainingJob API"
   ]
  },
  {
   "cell_type": "code",
   "execution_count": 4,
   "metadata": {
    "scrolled": true
   },
   "outputs": [
    {
     "name": "stdout",
     "output_type": "stream",
     "text": [
      "Training job name: 34L-ADAM-imageclassification--2021-10-09-02-35-55\n",
      "\n",
      "Input Data Location: {'S3DataType': 'AugmentedManifestFile', 'AttributeNames': ['image-ref', 'class'], 'S3Uri': 's3://sagemaker-us-east-1-513033806411/lymph-node-image-classification/train/augmented_manifest_train.json', 'S3DataDistributionType': 'FullyReplicated'}\n",
      "CPU times: user 5.89 ms, sys: 182 µs, total: 6.07 ms\n",
      "Wall time: 5.88 ms\n"
     ]
    }
   ],
   "source": [
    "%%time\n",
    "import time\n",
    "from time import gmtime, strftime\n",
    "\n",
    "s3 = boto3.client(\"s3\")\n",
    "# create unique job name\n",
    "job_name_prefix = \"34L-ADAM-imageclassification\"\n",
    "job_name = job_name_prefix + \"-\" + time.strftime(\"-%Y-%m-%d-%H-%M-%S\", time.gmtime())\n",
    "training_params = {\n",
    "    # specify the training image\n",
    "    \"AlgorithmSpecification\": {\"TrainingImage\": training_image, \"TrainingInputMode\": \"Pipe\"},\n",
    "    \"RoleArn\": role,\n",
    "    \"OutputDataConfig\": {\"S3OutputPath\": \"s3://{}/{}/output\".format(bucket, job_name_prefix)},\n",
    "    \"ResourceConfig\": {\"InstanceCount\": 1, \"InstanceType\": \"ml.p3.2xlarge\", \"VolumeSizeInGB\": 50},\n",
    "    \"TrainingJobName\": job_name,\n",
    "    \"HyperParameters\": {\n",
    "        \"image_shape\": image_shape,\n",
    "        \"num_layers\": str(num_layers),\n",
    "        \"num_training_samples\": str(num_training_samples),\n",
    "        \"num_classes\": str(num_classes),\n",
    "        \"mini_batch_size\": str(mini_batch_size),\n",
    "        \"epochs\": str(epochs),\n",
    "        \"learning_rate\": str(learning_rate),\n",
    "        \"augmentation_type\": augmentation_type,\n",
    "        \"precision_dtype\": precision_dtype,\n",
    "        \"optimizer\": optimizer,\n",
    "        \"lr_scheduler_factor\": lr_scheduler_factor,\n",
    "        \"lr_scheduler_step\": lr_scheduler_step,\n",
    "        \"use_pretrained_model\": use_pretrained_model\n",
    "    },\n",
    "    \"StoppingCondition\": {\"MaxRuntimeInSeconds\": 10800},\n",
    "    #\"EnableManagedSpotTraining\": True,\n",
    "    # Training data should be inside a subdirectory called \"train\"\n",
    "    # Validation data should be inside a subdirectory called \"validation\"\n",
    "    # The algorithm currently only supports fullyreplicated model (where data is copied onto each machine)\n",
    "    \"InputDataConfig\": [\n",
    "        {\n",
    "            \"ChannelName\": \"train\",\n",
    "            \"DataSource\": {\n",
    "                \"S3DataSource\": {\n",
    "                    \"S3DataType\": \"AugmentedManifestFile\",\n",
    "                    \"AttributeNames\": [\"image-ref\", \"class\"],\n",
    "                    \"S3Uri\": s3_train + 'augmented_manifest_train.json',\n",
    "                    \"S3DataDistributionType\": \"FullyReplicated\",\n",
    "                }\n",
    "            },\n",
    "            \"ContentType\": \"application/x-recordio\",\n",
    "            \"InputMode\": \"Pipe\",\n",
    "            \"RecordWrapperType\": \"RecordIO\",\n",
    "            \"CompressionType\": \"None\",\n",
    "        },\n",
    "        {\n",
    "            \"ChannelName\": \"validation\",\n",
    "            \"DataSource\": {\n",
    "                \"S3DataSource\": {\n",
    "                    \"S3DataType\": \"AugmentedManifestFile\",\n",
    "                    \"AttributeNames\": [\"image-ref\", \"class\"],\n",
    "                    \"S3Uri\": s3_validation + 'augmented_manifest_validation.json',\n",
    "                    \"S3DataDistributionType\": \"FullyReplicated\",\n",
    "                }\n",
    "            },\n",
    "            \"ContentType\": \"application/x-recordio\",\n",
    "            \"InputMode\": \"Pipe\",\n",
    "            \"RecordWrapperType\": \"RecordIO\",\n",
    "            \"CompressionType\": \"None\",\n",
    "        },\n",
    "    ],\n",
    "}\n",
    "print(\"Training job name: {}\".format(job_name))\n",
    "print(\n",
    "    \"\\nInput Data Location: {}\".format(\n",
    "        training_params[\"InputDataConfig\"][0][\"DataSource\"][\"S3DataSource\"]\n",
    "    )\n",
    ")"
   ]
  },
  {
   "cell_type": "markdown",
   "metadata": {},
   "source": [
    "### c) Launch training job\n",
    "After setting training parameters, we kick off training and poll for status until training is completed."
   ]
  },
  {
   "cell_type": "code",
   "execution_count": 5,
   "metadata": {},
   "outputs": [],
   "source": [
    "# create the Amazon SageMaker training job\n",
    "sagemaker = boto3.client(service_name=\"sagemaker\")\n",
    "sagemaker.create_training_job(**training_params)\n",
    "\n",
    "# confirm that the training job has started\n",
    "status = sagemaker.describe_training_job(TrainingJobName=job_name)[\"TrainingJobStatus\"]\n",
    "print(\"Training job current status: {}\".format(status))\n",
    "\n",
    "try:\n",
    "    # wait for the job to finish and report the ending status\n",
    "    sagemaker.get_waiter(\"training_job_completed_or_stopped\").wait(TrainingJobName=job_name)\n",
    "    training_info = sagemaker.describe_training_job(TrainingJobName=job_name)\n",
    "    status = training_info[\"TrainingJobStatus\"]\n",
    "    print(\"Training job ended with status: \" + status)\n",
    "except:\n",
    "    print(\"Training failed to start\")\n",
    "    # if exception is raised, that means it has failed\n",
    "    message = sagemaker.describe_training_job(TrainingJobName=job_name)[\"FailureReason\"]\n",
    "    print(\"Training failed with the following error: {}\".format(message))"
   ]
  },
  {
   "cell_type": "code",
   "execution_count": 11,
   "metadata": {},
   "outputs": [
    {
     "name": "stdout",
     "output_type": "stream",
     "text": [
      "Training job ended with status: Completed\n"
     ]
    }
   ],
   "source": [
    "training_info = sagemaker.describe_training_job(TrainingJobName=job_name)\n",
    "status = training_info[\"TrainingJobStatus\"]\n",
    "print(\"Training job ended with status: \" + status)"
   ]
  },
  {
   "cell_type": "markdown",
   "metadata": {},
   "source": [
    "If you see the message,\n",
    "\n",
    "> `Training job ended with status: Completed`\n",
    "\n",
    "then that means training successfully completed and the output model was stored in the output path specified by `training_params['OutputDataConfig']`.\n",
    "\n",
    "You can also view information about and the status of a training job using the AWS SageMaker console. Just click on the \"Jobs\" tab."
   ]
  },
  {
   "cell_type": "markdown",
   "metadata": {},
   "source": [
    "## 3. Model Evaluation\n",
    "\n",
    "### a) Create Model\n",
    "\n",
    "We now create a SageMaker Model from the training output. Using the model we can create a Batch Transform Job or an Endpoint Configuration."
   ]
  },
  {
   "cell_type": "code",
   "execution_count": 8,
   "metadata": {},
   "outputs": [
    {
     "name": "stdout",
     "output_type": "stream",
     "text": [
      "PCAM-image-classification-model-2021-10-04-17-55-20\n",
      "s3://sagemaker-us-east-1-513033806411/34L-ADAM-imageclassification--2021-10-09-02-35-55/output/34L-ADAM-imageclassification--2021-10-09-02-35-55/output/model.tar.gz\n",
      "arn:aws:sagemaker:us-east-1:513033806411:model/pcam-image-classification-model-2021-10-09-02-42-20\n",
      "CPU times: user 88.7 ms, sys: 12.3 ms, total: 101 ms\n",
      "Wall time: 700 ms\n"
     ]
    }
   ],
   "source": [
    "%%time\n",
    "\n",
    "sage = boto3.Session().client(service_name=\"sagemaker\")\n",
    "\n",
    "job_name = '34L-ADAM-imageclassification--2021-10-09-02-35-55'\n",
    "\n",
    "model_name = \"PCAM-image-classification-model\" + time.strftime(\n",
    "    \"-%Y-%m-%d-%H-%M-%S\", time.gmtime()\n",
    ")\n",
    "print(model_name)\n",
    "info = sage.describe_training_job(TrainingJobName=job_name)\n",
    "model_data = info[\"ModelArtifacts\"][\"S3ModelArtifacts\"]\n",
    "print(model_data)\n",
    "\n",
    "hosting_image = retrieve(\"image-classification\", boto3.Session().region_name)\n",
    "\n",
    "primary_container = {\n",
    "    \"Image\": hosting_image,\n",
    "    \"ModelDataUrl\": model_data,\n",
    "}\n",
    "\n",
    "create_model_response = sage.create_model(\n",
    "    ModelName=model_name, ExecutionRoleArn=role, PrimaryContainer=primary_container\n",
    ")\n",
    "\n",
    "print(create_model_response[\"ModelArn\"])"
   ]
  },
  {
   "cell_type": "markdown",
   "metadata": {},
   "source": [
    "### b) Batch Transform\n",
    "\n",
    "We now create a SageMaker Batch Transform job using the model created above to perform batch prediction."
   ]
  },
  {
   "cell_type": "code",
   "execution_count": 9,
   "metadata": {},
   "outputs": [
    {
     "name": "stdout",
     "output_type": "stream",
     "text": [
      "Transform job name: PCAM-image-classification-model-2021-10-09-02-42-20\n",
      "\n",
      "Input Data Location: s3://sagemaker-us-east-1-513033806411/lymph-node-image-classification/images/color/test/\n"
     ]
    }
   ],
   "source": [
    "batch_input = \"s3://{}/lymph-node-image-classification/images/color/test/\".format(bucket)\n",
    "timestamp = time.strftime(\"-%Y-%m-%d-%H-%M-%S\", time.gmtime())\n",
    "batch_job_name = \"PCAM-image-classification-model\" + timestamp\n",
    "request = {\n",
    "    \"TransformJobName\": batch_job_name,\n",
    "    \"ModelName\": model_name,\n",
    "    \"MaxConcurrentTransforms\": 16,\n",
    "    \"MaxPayloadInMB\": 6,\n",
    "    \"BatchStrategy\": \"SingleRecord\",\n",
    "    \"TransformOutput\": {\"S3OutputPath\": \"s3://{}/{}/output\".format(bucket, batch_job_name)},\n",
    "    \"TransformInput\": {\n",
    "        \"DataSource\": {\"S3DataSource\": {\"S3DataType\": \"S3Prefix\", \"S3Uri\": batch_input}},\n",
    "        \"ContentType\": \"application/x-image\",\n",
    "        \"SplitType\": \"None\",\n",
    "        \"CompressionType\": \"None\",\n",
    "    },\n",
    "    \"TransformResources\": {\"InstanceType\": \"ml.p3.2xlarge\", \"InstanceCount\": 1},\n",
    "}\n",
    "\n",
    "print(\"Transform job name: {}\".format(batch_job_name))\n",
    "print(\"\\nInput Data Location: {}\".format(batch_input))"
   ]
  },
  {
   "cell_type": "code",
   "execution_count": 11,
   "metadata": {},
   "outputs": [
    {
     "name": "stdout",
     "output_type": "stream",
     "text": [
      "Created Transform job with name:  PCAM-image-classification-model-2021-10-09-02-42-20\n",
      "Transform job ended with status: Completed\n"
     ]
    }
   ],
   "source": [
    "sagemaker = boto3.client(\"sagemaker\")\n",
    "sagemaker.create_transform_job(**request)\n",
    "\n",
    "print(\"Created Transform job with name: \", batch_job_name)\n",
    "\n",
    "while True:\n",
    "    response = sagemaker.describe_transform_job(TransformJobName=batch_job_name)\n",
    "    status = response[\"TransformJobStatus\"]\n",
    "    if status == \"Completed\":\n",
    "        print(\"Transform job ended with status: \" + status)\n",
    "        break\n",
    "    if status == \"Failed\":\n",
    "        message = response[\"FailureReason\"]\n",
    "        print(\"Transform failed with the following error: {}\".format(message))\n",
    "        raise Exception(\"Transform job failed\")\n",
    "    time.sleep(30)"
   ]
  },
  {
   "cell_type": "markdown",
   "metadata": {},
   "source": [
    "After the job completes, let's gather our prediction results."
   ]
  },
  {
   "cell_type": "code",
   "execution_count": 3,
   "metadata": {},
   "outputs": [],
   "source": [
    "s3 = s3fs.S3FileSystem()\n",
    "\n",
    "# Observed values for test\n",
    "def readArrayFromS3(name):\n",
    "    \"\"\"Load pickle file as np array from S3\"\"\"\n",
    "    return np.load(s3.open('{}/{}'.format(bucket, name)), allow_pickle=True)\n",
    "\n",
    "# Load test labels\n",
    "test_y = readArrayFromS3(folder + 'test_y/camelyonpatch_level_2_split_test_y.pkl')"
   ]
  },
  {
   "cell_type": "code",
   "execution_count": 10,
   "metadata": {},
   "outputs": [],
   "source": [
    "import json\n",
    "\n",
    "s3_client = boto3.client(\"s3\")\n",
    "\n",
    "def list_objects(s3_client, bucket, prefix):\n",
    "    \"\"\"Get list of all output objects\"\"\"\n",
    "    response = s3_client.list_objects(Bucket=bucket, Prefix=prefix)\n",
    "    objects = [content[\"Key\"] for content in response[\"Contents\"]]\n",
    "    return objects\n",
    "\n",
    "def get_label(s3_client, bucket, prefix):\n",
    "    \"\"\"\n",
    "    Get predictions\n",
    "    \n",
    "    Returns:\n",
    "    ----\n",
    "    {tuple} -- (image index, class, predicted probability)\n",
    "    \n",
    "    \"\"\"\n",
    "    filename = 'outputs/' + prefix.split(\"/\")[-1]\n",
    "    s3_client.download_file(bucket, prefix, filename)\n",
    "    jpg_idx = int(filename.split(\".\")[0][13:])\n",
    "    with open(filename) as f:\n",
    "        data = json.load(f)\n",
    "        index = np.argmax(data[\"prediction\"])\n",
    "        probability = data[\"prediction\"][index]\n",
    "    return jpg_idx, index, probability\n",
    "\n",
    "# observed\n",
    "observed = test_y.flatten()\n",
    "\n",
    "#outputs\n",
    "outputs = [batch_job_name+'/output/test_'+str(i)+'.jpg.out' for i in range(len(observed))]\n",
    "\n",
    "# Load prediction results\n",
    "predictions = [get_label(s3_client, bucket, prefix) for prefix in outputs]\n",
    "\n",
    "# Sort predictions based on jpeg index\n",
    "predictions = sorted(predictions, key=lambda x: x[0])"
   ]
  },
  {
   "cell_type": "code",
   "execution_count": 13,
   "metadata": {},
   "outputs": [
    {
     "data": {
      "text/plain": [
       "[(0, 0, 0.9669764637947083),\n",
       " (1, 1, 0.9961079955101013),\n",
       " (2, 1, 0.639876663684845),\n",
       " (3, 1, 0.9999039173126221),\n",
       " (4, 1, 0.6065276265144348),\n",
       " (5, 0, 0.8801805377006531),\n",
       " (6, 1, 0.8618873357772827),\n",
       " (7, 1, 0.8382167816162109),\n",
       " (8, 1, 0.9317114353179932),\n",
       " (9, 0, 0.9743373394012451)]"
      ]
     },
     "execution_count": 13,
     "metadata": {},
     "output_type": "execute_result"
    }
   ],
   "source": [
    "#print first 10 predictions\n",
    "predictions[:10]"
   ]
  },
  {
   "cell_type": "code",
   "execution_count": 18,
   "metadata": {},
   "outputs": [],
   "source": [
    "import pandas as pd\n",
    "\n",
    "# Create predictions dataframe\n",
    "pred_df = pd.DataFrame(columns=[\"Index\",\"Predicted\",\"Probability\"], data=predictions)\n",
    "pred_df[\"Observed\"] = observed"
   ]
  },
  {
   "cell_type": "code",
   "execution_count": 21,
   "metadata": {},
   "outputs": [
    {
     "data": {
      "text/html": [
       "<div>\n",
       "<style scoped>\n",
       "    .dataframe tbody tr th:only-of-type {\n",
       "        vertical-align: middle;\n",
       "    }\n",
       "\n",
       "    .dataframe tbody tr th {\n",
       "        vertical-align: top;\n",
       "    }\n",
       "\n",
       "    .dataframe thead th {\n",
       "        text-align: right;\n",
       "    }\n",
       "</style>\n",
       "<table border=\"1\" class=\"dataframe\">\n",
       "  <thead>\n",
       "    <tr style=\"text-align: right;\">\n",
       "      <th></th>\n",
       "      <th>Index</th>\n",
       "      <th>Predicted</th>\n",
       "      <th>Probability</th>\n",
       "      <th>Observed</th>\n",
       "    </tr>\n",
       "  </thead>\n",
       "  <tbody>\n",
       "    <tr>\n",
       "      <th>0</th>\n",
       "      <td>0</td>\n",
       "      <td>0</td>\n",
       "      <td>0.966976</td>\n",
       "      <td>0</td>\n",
       "    </tr>\n",
       "    <tr>\n",
       "      <th>1</th>\n",
       "      <td>1</td>\n",
       "      <td>1</td>\n",
       "      <td>0.996108</td>\n",
       "      <td>1</td>\n",
       "    </tr>\n",
       "    <tr>\n",
       "      <th>2</th>\n",
       "      <td>2</td>\n",
       "      <td>1</td>\n",
       "      <td>0.639877</td>\n",
       "      <td>0</td>\n",
       "    </tr>\n",
       "    <tr>\n",
       "      <th>3</th>\n",
       "      <td>3</td>\n",
       "      <td>1</td>\n",
       "      <td>0.999904</td>\n",
       "      <td>1</td>\n",
       "    </tr>\n",
       "    <tr>\n",
       "      <th>4</th>\n",
       "      <td>4</td>\n",
       "      <td>1</td>\n",
       "      <td>0.606528</td>\n",
       "      <td>1</td>\n",
       "    </tr>\n",
       "  </tbody>\n",
       "</table>\n",
       "</div>"
      ],
      "text/plain": [
       "   Index  Predicted  Probability  Observed\n",
       "0      0          0     0.966976         0\n",
       "1      1          1     0.996108         1\n",
       "2      2          1     0.639877         0\n",
       "3      3          1     0.999904         1\n",
       "4      4          1     0.606528         1"
      ]
     },
     "execution_count": 21,
     "metadata": {},
     "output_type": "execute_result"
    }
   ],
   "source": [
    "pred_df.head()"
   ]
  },
  {
   "cell_type": "code",
   "execution_count": 29,
   "metadata": {},
   "outputs": [],
   "source": [
    "# Output predictions \n",
    "pred_df.to_csv('predictions.csv', index=False)"
   ]
  },
  {
   "cell_type": "code",
   "execution_count": 3,
   "metadata": {},
   "outputs": [],
   "source": [
    "# Checkpoint - load predictions\n",
    "import pandas as pd\n",
    "pred_df = pd.read_csv('predictions.csv')"
   ]
  },
  {
   "cell_type": "markdown",
   "metadata": {},
   "source": [
    "### c) Analyze Prediction Results"
   ]
  },
  {
   "cell_type": "markdown",
   "metadata": {},
   "source": [
    "SageMaker's Image Classification algorithm provides probabilities for the the two classes. Before computing AUC-ROC, we should convert the probabilities for each class to the probability of positive metastatic cancer. We can easily do this with (1-probability) for predicitions classified as \"0\"."
   ]
  },
  {
   "cell_type": "code",
   "execution_count": 4,
   "metadata": {},
   "outputs": [],
   "source": [
    "# Adjust probability for computing AUC-ROC\n",
    "pred_df['Probability'] = pred_df.apply(lambda row: 1-row['Probability'] if row['Predicted'] == 0 else row['Probability'], axis=1)"
   ]
  },
  {
   "cell_type": "markdown",
   "metadata": {},
   "source": [
    "Now that we have the probabilities, let's plot the ROC curve to evaluate the quality of our model."
   ]
  },
  {
   "cell_type": "code",
   "execution_count": 11,
   "metadata": {},
   "outputs": [
    {
     "data": {
      "image/png": "[encoded data removed]",
      "text/plain": [
       "<Figure size 432x288 with 1 Axes>"
      ]
     },
     "metadata": {
      "needs_background": "light"
     },
     "output_type": "display_data"
    }
   ],
   "source": [
    "from sklearn import metrics\n",
    "import seaborn as sns\n",
    "import matplotlib.pyplot as plt\n",
    "\n",
    "fpr, tpr, _ = metrics.roc_curve(pred_df['Observed'],  pred_df['Probability'])\n",
    "auc = metrics.roc_auc_score(pred_df['Observed'],  pred_df['Probability'])\n",
    "\n",
    "plt.figure()\n",
    "lw = 2\n",
    "plt.plot(fpr, tpr, color='darkorange',\n",
    "         lw=lw, label='ROC curve (area = %0.3f)' % auc)\n",
    "plt.plot([0, 1], [0, 1], color='navy', lw=lw, linestyle='--')\n",
    "plt.xlim([0.0, 1.0])\n",
    "plt.ylim([0.0, 1.05])\n",
    "plt.xlabel('False Positive Rate')\n",
    "plt.ylabel('True Positive Rate')\n",
    "plt.title('Receiver operating characteristic')\n",
    "plt.legend(loc=\"lower right\")\n",
    "plt.show()"
   ]
  },
  {
   "cell_type": "code",
   "execution_count": 27,
   "metadata": {},
   "outputs": [
    {
     "name": "stdout",
     "output_type": "stream",
     "text": [
      "Precision: 0.934\n",
      "Recall: 0.776\n",
      "F1 score: 0.848\n",
      "Accuracy: 0.861\n",
      "AUC: 0.949\n"
     ]
    }
   ],
   "source": [
    "F1 = metrics.f1_score(pred_df['Observed'],  pred_df['Predicted'])\n",
    "precision = metrics.precision_score(pred_df['Observed'],  pred_df['Predicted'])\n",
    "recall = metrics.recall_score(pred_df['Observed'],  pred_df['Predicted'])\n",
    "acc = metrics.accuracy_score(pred_df['Observed'],  pred_df['Predicted'])\n",
    "print(f\"Precision: {round(precision,3)}\")\n",
    "print(f\"Recall: {round(recall,3)}\")\n",
    "print(f\"F1 score: {round(F1,3)}\")\n",
    "print(f\"Accuracy: {round(acc,3)}\")\n",
    "print(f\"AUC: {round(auc,3)}\")"
   ]
  },
  {
   "cell_type": "markdown",
   "metadata": {},
   "source": [
    "Our precision is good, but we are predicting cancer, which means false negatives are extremely costly so we should be more concerned with recall. We can visualize our misclassifications in the confusion matrix below."
   ]
  },
  {
   "cell_type": "code",
   "execution_count": 14,
   "metadata": {},
   "outputs": [
    {
     "data": {
      "image/png": "[encoded data removed]",
      "text/plain": [
       "<Figure size 432x288 with 2 Axes>"
      ]
     },
     "metadata": {
      "needs_background": "light"
     },
     "output_type": "display_data"
    }
   ],
   "source": [
    "# Plot confusion matrix\n",
    "cm = metrics.confusion_matrix(pred_df['Observed'], pred_df['Predicted'], labels=[0,1])\n",
    "ax= plt.subplot()\n",
    "sns.heatmap(cm, annot=True, fmt='g', ax=ax, cmap=\"flare_r\")\n",
    "\n",
    "# labels, title and ticks\n",
    "ax.set_xlabel('Predicted labels')\n",
    "ax.set_ylabel('True labels')\n",
    "ax.set_title('Confusion Matrix')\n",
    "ax.xaxis.set_ticklabels(['Negative','Positive'])\n",
    "ax.yaxis.set_ticklabels(['Negative','Positive'])"
   ]
  },
  {
   "cell_type": "markdown",
   "metadata": {},
   "source": [
    "Clearly there is an imbalance as the number of false negatives is four times greater than false positives. Let's experiment with the prediction threshold and see if we can balance our confusion matrix without sacrificing too much accuracy."
   ]
  },
  {
   "cell_type": "code",
   "execution_count": 15,
   "metadata": {},
   "outputs": [],
   "source": [
    "# New prediction based on updated threshold\n",
    "pred_df['New Prediction'] = pred_df.apply(lambda row: 1 if row['Probability'] > 0.25 else 0, axis=1)"
   ]
  },
  {
   "cell_type": "code",
   "execution_count": 16,
   "metadata": {},
   "outputs": [
    {
     "name": "stdout",
     "output_type": "stream",
     "text": [
      "Precision: 0.88\n",
      "Recall: 0.876\n",
      "F1 score: 0.878\n",
      "Accuracy: 0.878\n"
     ]
    }
   ],
   "source": [
    "F1 = metrics.f1_score(pred_df['Observed'],  pred_df['New Prediction'])\n",
    "precision = metrics.precision_score(pred_df['Observed'],  pred_df['New Prediction'])\n",
    "recall = metrics.recall_score(pred_df['Observed'],  pred_df['New Prediction'])\n",
    "acc = metrics.accuracy_score(pred_df['Observed'],  pred_df['New Prediction'])\n",
    "print(f\"Precision: {round(precision,3)}\")\n",
    "print(f\"Recall: {round(recall,3)}\")\n",
    "print(f\"F1 score: {round(F1,3)}\")\n",
    "print(f\"Accuracy: {round(acc,3)}\")"
   ]
  },
  {
   "cell_type": "code",
   "execution_count": 18,
   "metadata": {},
   "outputs": [
    {
     "data": {
      "image/png": "[encoded data removed]",
      "text/plain": [
       "<Figure size 432x288 with 2 Axes>"
      ]
     },
     "metadata": {
      "needs_background": "light"
     },
     "output_type": "display_data"
    }
   ],
   "source": [
    "# Plot updated confusion matrix\n",
    "cm = metrics.confusion_matrix(pred_df['Observed'], pred_df['New Prediction'], labels=[0,1])\n",
    "ax= plt.subplot()\n",
    "sns.heatmap(cm, annot=True, fmt='g', ax=ax, cmap=\"flare_r\");  #annot=True to annotate cells, ftm='g' to disable scientific notation\n",
    "\n",
    "# labels, title and ticks\n",
    "ax.set_xlabel('Predicted labels');ax.set_ylabel('True labels'); \n",
    "ax.set_title('Confusion Matrix'); \n",
    "ax.xaxis.set_ticklabels(['Negative','Positive']); ax.yaxis.set_ticklabels(['Negative','Positive']);"
   ]
  },
  {
   "cell_type": "markdown",
   "metadata": {},
   "source": [
    "## Conclusion\n",
    "By changing our threshold from 0.5 to 0.25, we have balanced the type I and II errors, and actually improved all of our metrics with the exception of precision. Our final model **accuracy is 87.8%** on the test set. In the next notebook, we will deploy our model for realtime inference."
   ]
  }
 ],
 "metadata": {
  "celltoolbar": "Tags",
  "kernelspec": {
   "display_name": "conda_mxnet_p36",
   "language": "python",
   "name": "conda_mxnet_p36"
  },
  "language_info": {
   "codemirror_mode": {
    "name": "ipython",
    "version": 3
   },
   "file_extension": ".py",
   "mimetype": "text/x-python",
   "name": "python",
   "nbconvert_exporter": "python",
   "pygments_lexer": "ipython3",
   "version": "3.6.13"
  }
 },
 "nbformat": 4,
 "nbformat_minor": 2
}
