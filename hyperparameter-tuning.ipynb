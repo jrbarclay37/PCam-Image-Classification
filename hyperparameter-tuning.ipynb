{
 "cells": [
  {
   "cell_type": "markdown",
   "metadata": {},
   "source": [
    "# Automatic Model Tuning\n",
    "\n",
    "1. [Introduction](#Introduction)\n",
    "2. [Create Hyperparameter Tuning Job with Augmented Manifest files](Create-Hyperparameter-Tuning-Job-with-Augmented-Manifest-files)\n",
    "3. [Launch Hyperparameter Tuning Job](#Launch-Hyperparameter-Tuning-Job)\n",
    "4. [Analyze Results of Hyperparameter Tuning Job](#Analyze-Results-of-Hyperparameter-Tuning-Job)\n",
    "    1. [Fetch all results as DataFrame](#Fetch-all-results-as-DataFrame)\n",
    "    2. [Tuning job results over time](#Tuning-job-results-over-time)\n",
    "    3. [Analyze correlation between objective metric and individual hyperparameters](#Analyze-correlation-between-objective-metric-and-individual-hyperparameters)\n",
    "    4. [Final hyperparameters selection](#Final-hyperparameters-selection)\n",
    "5. [Conclusion](#Conclusion)"
   ]
  },
  {
   "cell_type": "markdown",
   "metadata": {},
   "source": [
    "## 1. Introduction\n",
    "\n",
    "In this notebook we will be launching a hyperparameter tuning job and evaluating the results to determine the best parameters for our model.\n",
    "\n",
    "First, we need to set up the linkage and authentication to AWS services. There are three parts to this:\n",
    "\n",
    "* The roles used to give learning and hosting access to your data. This will automatically be obtained from the role used to start the notebook\n",
    "* The S3 bucket that you want to use for training and model data\n",
    "* The Amazon sagemaker image classification docker image which need not be changed"
   ]
  },
  {
   "cell_type": "code",
   "execution_count": 1,
   "metadata": {
    "tags": [
     "parameters"
    ]
   },
   "outputs": [
    {
     "name": "stdout",
     "output_type": "stream",
     "text": [
      "CPU times: user 1.34 s, sys: 91.9 ms, total: 1.43 s\n",
      "Wall time: 1.63 s\n"
     ]
    }
   ],
   "source": [
    "%%time\n",
    "import io\n",
    "import numpy as np\n",
    "import pickle\n",
    "import s3fs\n",
    "import boto3\n",
    "import re\n",
    "import time\n",
    "from time import gmtime, strftime\n",
    "import sagemaker\n",
    "from sagemaker import get_execution_role\n",
    "from sagemaker.amazon.amazon_estimator import get_image_uri\n",
    "from sagemaker.image_uris import retrieve\n",
    "\n",
    "role = get_execution_role()\n",
    "\n",
    "bucket = sagemaker.Session().default_bucket()\n",
    "\n",
    "folder = 'lymph-node-image-classification/'\n",
    "\n",
    "training_image = retrieve(\"image-classification\", boto3.Session().region_name)"
   ]
  },
  {
   "cell_type": "markdown",
   "metadata": {},
   "source": [
    "## 2. Create Hyperparameter Tuning Job with [Augmented Manifest files](https://docs.aws.amazon.com/sagemaker/latest/dg/augmented-manifest.html)"
   ]
  },
  {
   "cell_type": "code",
   "execution_count": 2,
   "metadata": {},
   "outputs": [
    {
     "name": "stdout",
     "output_type": "stream",
     "text": [
      "CPU times: user 47.4 ms, sys: 3.33 ms, total: 50.7 ms\n",
      "Wall time: 61.1 ms\n"
     ]
    }
   ],
   "source": [
    "# create unique job name\n",
    "s3 = boto3.client(\"s3\")\n",
    "job_name_prefix = \"34Layer-imageclassification\"\n",
    "job_name = job_name_prefix + \"-\" + time.strftime(\"-%Y-%m-%d-%H-%M-%S\", time.gmtime())"
   ]
  },
  {
   "cell_type": "markdown",
   "metadata": {},
   "source": [
    "First, we need to set our input parameters to stream our training data using pipe mode by wrapping our Augmented Manifest files as RecordIO format."
   ]
  },
  {
   "cell_type": "code",
   "execution_count": 4,
   "metadata": {},
   "outputs": [],
   "source": [
    "import sagemaker\n",
    "\n",
    "# file paths\n",
    "s3_train_key = \"lymph-node-image-classification/train\"\n",
    "s3_validation_key = \"lymph-node-image-classification/validation\"\n",
    "s3_train_data = \"s3://{}/{}/augmented_manifest_train.json\".format(bucket, s3_train_key)\n",
    "s3_validation_data = \"s3://{}/{}/augmented_manifest_validation.json\".format(bucket, s3_validation_key)\n",
    "\n",
    "s3_output = \"s3://{}/{}/output\".format(bucket, job_name_prefix)\n",
    "\n",
    "s3_input_train = sagemaker.TrainingInput(\n",
    "    s3_data=s3_train_data, \n",
    "    content_type=\"application/x-recordio\", \n",
    "    distribution=\"FullyReplicated\",\n",
    "    s3_data_type=\"AugmentedManifestFile\",\n",
    "    attribute_names=[\"image-ref\", \"class\"],\n",
    "    input_mode=\"Pipe\",\n",
    "    record_wrapping=\"RecordIO\")\n",
    "\n",
    "s3_input_validation = sagemaker.TrainingInput(\n",
    "    s3_data=s3_validation_data, \n",
    "    content_type=\"application/x-recordio\",\n",
    "    distribution=\"FullyReplicated\",\n",
    "    s3_data_type=\"AugmentedManifestFile\",\n",
    "    attribute_names=[\"image-ref\", \"class\"],\n",
    "    input_mode=\"Pipe\",\n",
    "    record_wrapping=\"RecordIO\")"
   ]
  },
  {
   "cell_type": "markdown",
   "metadata": {},
   "source": [
    "We should set checkpoints as seen below if we are going to be using spot instances. However, we will not be making use of them for this particular job, so we can ignore this part."
   ]
  },
  {
   "cell_type": "code",
   "execution_count": 5,
   "metadata": {},
   "outputs": [],
   "source": [
    "# Checkpointing\n",
    "checkpoint_in_bucket=\"checkpoints\"\n",
    "\n",
    "# The S3 URI to store the checkpoints\n",
    "checkpoint_s3_bucket=\"s3://{}/{}/{}\".format(bucket, job_name, checkpoint_in_bucket)\n",
    "\n",
    "# The local path where the model will save its checkpoints in the training container\n",
    "checkpoint_local_path=\"/opt/ml/checkpoints\""
   ]
  },
  {
   "cell_type": "markdown",
   "metadata": {},
   "source": [
    "Next, we need to set up the inputs for SageMaker's [Estimators API](https://sagemaker.readthedocs.io/en/stable/api/training/estimators.html) for training.\n",
    "We will train using an ml.p3.2xlarge instance and set the following static hyperparameters."
   ]
  },
  {
   "cell_type": "code",
   "execution_count": 5,
   "metadata": {},
   "outputs": [],
   "source": [
    "# Estimator input parameters\n",
    "sess = sagemaker.Session()\n",
    "imageclassification = sagemaker.estimator.Estimator(\n",
    "    training_image,\n",
    "    role,\n",
    "    instance_count=1,\n",
    "    instance_type=\"ml.p3.2xlarge\",\n",
    "    input_mode = 'Pipe',\n",
    "    output_path=s3_output,\n",
    "    sagemaker_session=sess,\n",
    "    max_run = 10800, # 3 hrs\n",
    "    #max_wait = 86400, # 24 hrs\n",
    "    #use_spot_instances=True,\n",
    "    # Parameters required to enable checkpointing\n",
    "    #checkpoint_s3_uri=checkpoint_s3_bucket,\n",
    "    #checkpoint_local_path=checkpoint_local_path\n",
    ")\n",
    "\n",
    "# static hyperparameters for image classification model\n",
    "imageclassification.set_hyperparameters(\n",
    "    num_layers=34, \n",
    "    image_shape=\"3,96,96\",\n",
    "    num_classes=2,\n",
    "    epochs=25,\n",
    "    num_training_samples=262144,\n",
    "    precision_dtype=\"float16\",\n",
    "    augmentation_type=\"crop\", \n",
    ")"
   ]
  },
  {
   "cell_type": "markdown",
   "metadata": {},
   "source": [
    "Next, we will provide hyperparameter ranges for our tuning job to select from. Because we are operating under budget constraints and this can quickly become a very large computing problem, we will stick to the parameters `learning_rate`, `mini_batch_size`, and `optimizer`. We can always go through another iteration and tweak the other hyperparameters once we have a general sense for how these three influence model performance.  \n",
    "\n",
    "SageMaker gives us a large edge here because unlike classic gridsearch, automatic model tuning uses Bayesian Search to intelligently choose the best hyperparameters and learn from previous training jobs. Using the [HyperparameterTuner API](https://sagemaker.readthedocs.io/en/stable/api/training/tuner.html), we will set the max number of parallel jobs = 2 in order to best leverage SageMaker's Bayesian optimization.\n",
    "\n",
    "We are going to be using `validation accuracy` as our objective metric. Typically, we would want to use something like AUC if there was an imbalance in our positive and negative classes, but they are equally weighted in our data so we can use accuracy."
   ]
  },
  {
   "cell_type": "code",
   "execution_count": 6,
   "metadata": {},
   "outputs": [],
   "source": [
    "from time import gmtime, strftime\n",
    "from sagemaker.tuner import (\n",
    "    IntegerParameter,\n",
    "    CategoricalParameter,\n",
    "    ContinuousParameter,\n",
    "    HyperparameterTuner,\n",
    ")\n",
    "\n",
    "tuning_job_name = \"34LPT-imageclass-job-{}\".format(strftime(\"%d-%H-%M-%S\", gmtime()))\n",
    "\n",
    "hyperparameter_ranges = {\n",
    "    \"learning_rate\": ContinuousParameter(0.00001, 1.0, scaling_type='Logarithmic'),\n",
    "    \"mini_batch_size\": IntegerParameter(16, 64),\n",
    "    \"optimizer\": CategoricalParameter([\"sgd\", \"adam\", \"rmsprop\", \"nag\"]),\n",
    "}\n",
    "\n",
    "objective_metric_name = \"validation:accuracy\" \n",
    "\n",
    "# Inputs for HyperparameterTuner\n",
    "tuner = HyperparameterTuner(\n",
    "    imageclassification,\n",
    "    objective_metric_name,\n",
    "    hyperparameter_ranges,\n",
    "    objective_type=\"Maximize\",\n",
    "    max_jobs=25,\n",
    "    max_parallel_jobs=2,\n",
    "    early_stopping_type=\"Auto\",\n",
    ")"
   ]
  },
  {
   "cell_type": "markdown",
   "metadata": {},
   "source": [
    "## 3. Launch Hyperparameter Tuning Job\n",
    "Here we launch the tuning job. We can monitor the progress of our jobs within SageMaker."
   ]
  },
  {
   "cell_type": "code",
   "execution_count": null,
   "metadata": {},
   "outputs": [
    {
     "name": "stdout",
     "output_type": "stream",
     "text": [
      "................."
     ]
    }
   ],
   "source": [
    "tuner.fit(\n",
    "    {\"train\": s3_input_train, \"validation\": s3_input_validation},\n",
    "    job_name=tuning_job_name,\n",
    "    include_cls_metadata=False,\n",
    ")\n",
    "tuner.wait()"
   ]
  },
  {
   "cell_type": "markdown",
   "metadata": {},
   "source": [
    "## 4. Analyze Results of Hyperparameter Tuning Job"
   ]
  },
  {
   "cell_type": "code",
   "execution_count": 2,
   "metadata": {},
   "outputs": [],
   "source": [
    "region = boto3.Session().region_name\n",
    "sage_client = boto3.Session().client(\"sagemaker\")\n",
    "tuning_job_name = \"34LPT-imageclass-job-01-13-29-44\""
   ]
  },
  {
   "cell_type": "code",
   "execution_count": 4,
   "metadata": {},
   "outputs": [
    {
     "name": "stdout",
     "output_type": "stream",
     "text": [
      "The total training time with early stopping is 16.68 hours\n"
     ]
    }
   ],
   "source": [
    "tuner_metrics = sagemaker.HyperparameterTuningJobAnalytics(tuning_job_name)\n",
    "df = tuner_metrics.dataframe()\n",
    "total_time_es = df[\"TrainingElapsedTimeSeconds\"].sum() / 3600\n",
    "print(\"The total training time with early stopping is {:.2f} hours\".format(total_time_es))\n",
    "#df[\"TrainingJobStatus\"].value_counts()"
   ]
  },
  {
   "cell_type": "code",
   "execution_count": 6,
   "metadata": {},
   "outputs": [
    {
     "name": "stdout",
     "output_type": "stream",
     "text": [
      "Best model found so far:\n",
      "{'CreationTime': datetime.datetime(2021, 10, 1, 17, 26, 12, tzinfo=tzlocal()),\n",
      " 'FinalHyperParameterTuningJobObjectiveMetric': {'MetricName': 'validation:accuracy',\n",
      "                                                 'Value': 0.8365300297737122},\n",
      " 'ObjectiveStatus': 'Succeeded',\n",
      " 'TrainingEndTime': datetime.datetime(2021, 10, 1, 19, 3, 43, tzinfo=tzlocal()),\n",
      " 'TrainingJobArn': 'arn:aws:sagemaker:us-east-1:513033806411:training-job/34lpt-imageclass-job-01-13-29-44-009-e214dfe7',\n",
      " 'TrainingJobName': '34LPT-imageclass-job-01-13-29-44-009-e214dfe7',\n",
      " 'TrainingJobStatus': 'Stopped',\n",
      " 'TrainingStartTime': datetime.datetime(2021, 10, 1, 17, 29, 25, tzinfo=tzlocal()),\n",
      " 'TunedHyperParameters': {'learning_rate': '0.0022277949273140597',\n",
      "                          'mini_batch_size': '35',\n",
      "                          'optimizer': 'sgd'}}\n"
     ]
    }
   ],
   "source": [
    "from pprint import pprint\n",
    "\n",
    "if tuning_job_result.get(\"BestTrainingJob\", None):\n",
    "    print(\"Best model found so far:\")\n",
    "    pprint(tuning_job_result[\"BestTrainingJob\"])\n",
    "else:\n",
    "    print(\"No training jobs have reported results yet.\")"
   ]
  },
  {
   "cell_type": "markdown",
   "metadata": {},
   "source": [
    "### a) Fetch all results as DataFrame\n",
    "\n",
    "We can list hyperparameters and objective metrics of all training jobs and pick up the training job with the best objective metric."
   ]
  },
  {
   "cell_type": "code",
   "execution_count": 9,
   "metadata": {},
   "outputs": [
    {
     "name": "stdout",
     "output_type": "stream",
     "text": [
      "Number of training jobs with valid objective: 22\n",
      "{'lowest': 0.5992010235786438, 'highest': 0.8365300297737122}\n"
     ]
    },
    {
     "data": {
      "text/html": [
       "<div>\n",
       "<style scoped>\n",
       "    .dataframe tbody tr th:only-of-type {\n",
       "        vertical-align: middle;\n",
       "    }\n",
       "\n",
       "    .dataframe tbody tr th {\n",
       "        vertical-align: top;\n",
       "    }\n",
       "\n",
       "    .dataframe thead th {\n",
       "        text-align: right;\n",
       "    }\n",
       "</style>\n",
       "<table border=\"1\" class=\"dataframe\">\n",
       "  <thead>\n",
       "    <tr style=\"text-align: right;\">\n",
       "      <th></th>\n",
       "      <th>learning_rate</th>\n",
       "      <th>mini_batch_size</th>\n",
       "      <th>optimizer</th>\n",
       "      <th>TrainingJobName</th>\n",
       "      <th>TrainingJobStatus</th>\n",
       "      <th>FinalObjectiveValue</th>\n",
       "      <th>TrainingStartTime</th>\n",
       "      <th>TrainingEndTime</th>\n",
       "      <th>TrainingElapsedTimeSeconds</th>\n",
       "    </tr>\n",
       "  </thead>\n",
       "  <tbody>\n",
       "    <tr>\n",
       "      <th>14</th>\n",
       "      <td>0.002228</td>\n",
       "      <td>35.0</td>\n",
       "      <td>sgd</td>\n",
       "      <td>34LPT-imageclass-job-01-13-29-44-009-e214dfe7</td>\n",
       "      <td>Stopped</td>\n",
       "      <td>0.836530</td>\n",
       "      <td>2021-10-01 17:29:25+00:00</td>\n",
       "      <td>2021-10-01 19:03:43+00:00</td>\n",
       "      <td>5658.0</td>\n",
       "    </tr>\n",
       "    <tr>\n",
       "      <th>7</th>\n",
       "      <td>0.002387</td>\n",
       "      <td>35.0</td>\n",
       "      <td>sgd</td>\n",
       "      <td>34LPT-imageclass-job-01-13-29-44-016-2ef16ef3</td>\n",
       "      <td>Stopped</td>\n",
       "      <td>0.819881</td>\n",
       "      <td>2021-10-01 19:33:09+00:00</td>\n",
       "      <td>2021-10-01 20:38:36+00:00</td>\n",
       "      <td>3927.0</td>\n",
       "    </tr>\n",
       "    <tr>\n",
       "      <th>5</th>\n",
       "      <td>0.002277</td>\n",
       "      <td>28.0</td>\n",
       "      <td>sgd</td>\n",
       "      <td>34LPT-imageclass-job-01-13-29-44-018-6b93f870</td>\n",
       "      <td>Stopped</td>\n",
       "      <td>0.815634</td>\n",
       "      <td>2021-10-01 20:32:52+00:00</td>\n",
       "      <td>2021-10-01 22:17:07+00:00</td>\n",
       "      <td>6255.0</td>\n",
       "    </tr>\n",
       "    <tr>\n",
       "      <th>3</th>\n",
       "      <td>0.000389</td>\n",
       "      <td>52.0</td>\n",
       "      <td>sgd</td>\n",
       "      <td>34LPT-imageclass-job-01-13-29-44-020-e371c0f7</td>\n",
       "      <td>Stopped</td>\n",
       "      <td>0.813483</td>\n",
       "      <td>2021-10-01 21:32:26+00:00</td>\n",
       "      <td>2021-10-01 22:04:38+00:00</td>\n",
       "      <td>1932.0</td>\n",
       "    </tr>\n",
       "    <tr>\n",
       "      <th>13</th>\n",
       "      <td>0.001759</td>\n",
       "      <td>62.0</td>\n",
       "      <td>sgd</td>\n",
       "      <td>34LPT-imageclass-job-01-13-29-44-010-7088e7d7</td>\n",
       "      <td>Stopped</td>\n",
       "      <td>0.788646</td>\n",
       "      <td>2021-10-01 17:28:47+00:00</td>\n",
       "      <td>2021-10-01 17:51:01+00:00</td>\n",
       "      <td>1334.0</td>\n",
       "    </tr>\n",
       "  </tbody>\n",
       "</table>\n",
       "</div>"
      ],
      "text/plain": [
       "    learning_rate  mini_batch_size optimizer  \\\n",
       "14       0.002228             35.0       sgd   \n",
       "7        0.002387             35.0       sgd   \n",
       "5        0.002277             28.0       sgd   \n",
       "3        0.000389             52.0       sgd   \n",
       "13       0.001759             62.0       sgd   \n",
       "\n",
       "                                  TrainingJobName TrainingJobStatus  \\\n",
       "14  34LPT-imageclass-job-01-13-29-44-009-e214dfe7           Stopped   \n",
       "7   34LPT-imageclass-job-01-13-29-44-016-2ef16ef3           Stopped   \n",
       "5   34LPT-imageclass-job-01-13-29-44-018-6b93f870           Stopped   \n",
       "3   34LPT-imageclass-job-01-13-29-44-020-e371c0f7           Stopped   \n",
       "13  34LPT-imageclass-job-01-13-29-44-010-7088e7d7           Stopped   \n",
       "\n",
       "    FinalObjectiveValue         TrainingStartTime           TrainingEndTime  \\\n",
       "14             0.836530 2021-10-01 17:29:25+00:00 2021-10-01 19:03:43+00:00   \n",
       "7              0.819881 2021-10-01 19:33:09+00:00 2021-10-01 20:38:36+00:00   \n",
       "5              0.815634 2021-10-01 20:32:52+00:00 2021-10-01 22:17:07+00:00   \n",
       "3              0.813483 2021-10-01 21:32:26+00:00 2021-10-01 22:04:38+00:00   \n",
       "13             0.788646 2021-10-01 17:28:47+00:00 2021-10-01 17:51:01+00:00   \n",
       "\n",
       "    TrainingElapsedTimeSeconds  \n",
       "14                      5658.0  \n",
       "7                       3927.0  \n",
       "5                       6255.0  \n",
       "3                       1932.0  \n",
       "13                      1334.0  "
      ]
     },
     "execution_count": 9,
     "metadata": {},
     "output_type": "execute_result"
    }
   ],
   "source": [
    "import pandas as pd\n",
    "\n",
    "tuner = sagemaker.HyperparameterTuningJobAnalytics(tuning_job_name)\n",
    "\n",
    "full_df = tuner.dataframe()\n",
    "\n",
    "if len(full_df) > 0:\n",
    "    df = full_df[full_df[\"FinalObjectiveValue\"] > -float(\"inf\")]\n",
    "    if len(df) > 0:\n",
    "        df = df.sort_values(\"FinalObjectiveValue\", ascending=is_minimize)\n",
    "        print(\"Number of training jobs with valid objective: %d\" % len(df))\n",
    "        print({\"lowest\": min(df[\"FinalObjectiveValue\"]), \"highest\": max(df[\"FinalObjectiveValue\"])})\n",
    "        pd.set_option(\"display.max_colwidth\", None)  # Don't truncate TrainingJobName\n",
    "    else:\n",
    "        print(\"No training jobs have reported valid results yet.\")\n",
    "\n",
    "df.head()"
   ]
  },
  {
   "cell_type": "markdown",
   "metadata": {},
   "source": [
    "### b) Tuning job results over time\n",
    "\n",
    "Next, we will show how the objective metric changes over time, as the tuning job progresses. For Bayesian strategy, you should expect to see a general trend towards better results, but this progress will not be steady as the algorithm needs to balance exploration of new areas of parameter space against exploitation of known good areas. This can give you a sense of whether or not the number of training jobs is sufficient for the complexity of your search space."
   ]
  },
  {
   "cell_type": "code",
   "execution_count": 10,
   "metadata": {},
   "outputs": [
    {
     "data": {
      "text/plain": [
       "'34LPT-imageclass-job-01-13-29-44'"
      ]
     },
     "execution_count": 10,
     "metadata": {},
     "output_type": "execute_result"
    }
   ],
   "source": [
    "#dir(tuner) # view all object attributes\n",
    "tuner._tuning_job_name"
   ]
  },
  {
   "cell_type": "markdown",
   "metadata": {},
   "source": [
    "Using BokehJS, we can plot a scatterplot of performance vs. time for all the jobs and view the parameters using the tooltips."
   ]
  },
  {
   "cell_type": "code",
   "execution_count": 11,
   "metadata": {},
   "outputs": [
    {
     "data": {
      "text/html": [
       "\n",
       "    <div class=\"bk-root\">\n",
       "        <a href=\"https://bokeh.org\" target=\"_blank\" class=\"bk-logo bk-logo-small bk-logo-notebook\"></a>\n",
       "        <span id=\"1002\">Loading BokehJS ...</span>\n",
       "    </div>"
      ]
     },
     "metadata": {},
     "output_type": "display_data"
    },
    {
     "data": {
      "application/javascript": [
       "\n",
       "(function(root) {\n",
       "  function now() {\n",
       "    return new Date();\n",
       "  }\n",
       "\n",
       "  var force = true;\n",
       "\n",
       "  if (typeof root._bokeh_onload_callbacks === \"undefined\" || force === true) {\n",
       "    root._bokeh_onload_callbacks = [];\n",
       "    root._bokeh_is_loading = undefined;\n",
       "  }\n",
       "\n",
       "  var JS_MIME_TYPE = 'application/javascript';\n",
       "  var HTML_MIME_TYPE = 'text/html';\n",
       "  var EXEC_MIME_TYPE = 'application/vnd.bokehjs_exec.v0+json';\n",
       "  var CLASS_NAME = 'output_bokeh rendered_html';\n",
       "\n",
       "  /**\n",
       "   * Render data to the DOM node\n",
       "   */\n",
       "  function render(props, node) {\n",
       "    var script = document.createElement(\"script\");\n",
       "    node.appendChild(script);\n",
       "  }\n",
       "\n",
       "  /**\n",
       "   * Handle when an output is cleared or removed\n",
       "   */\n",
       "  function handleClearOutput(event, handle) {\n",
       "    var cell = handle.cell;\n",
       "\n",
       "    var id = cell.output_area._bokeh_element_id;\n",
       "    var server_id = cell.output_area._bokeh_server_id;\n",
       "    // Clean up Bokeh references\n",
       "    if (id != null && id in Bokeh.index) {\n",
       "      Bokeh.index[id].model.document.clear();\n",
       "      delete Bokeh.index[id];\n",
       "    }\n",
       "\n",
       "    if (server_id !== undefined) {\n",
       "      // Clean up Bokeh references\n",
       "      var cmd = \"from bokeh.io.state import curstate; print(curstate().uuid_to_server['\" + server_id + \"'].get_sessions()[0].document.roots[0]._id)\";\n",
       "      cell.notebook.kernel.execute(cmd, {\n",
       "        iopub: {\n",
       "          output: function(msg) {\n",
       "            var id = msg.content.text.trim();\n",
       "            if (id in Bokeh.index) {\n",
       "              Bokeh.index[id].model.document.clear();\n",
       "              delete Bokeh.index[id];\n",
       "            }\n",
       "          }\n",
       "        }\n",
       "      });\n",
       "      // Destroy server and session\n",
       "      var cmd = \"import bokeh.io.notebook as ion; ion.destroy_server('\" + server_id + \"')\";\n",
       "      cell.notebook.kernel.execute(cmd);\n",
       "    }\n",
       "  }\n",
       "\n",
       "  /**\n",
       "   * Handle when a new output is added\n",
       "   */\n",
       "  function handleAddOutput(event, handle) {\n",
       "    var output_area = handle.output_area;\n",
       "    var output = handle.output;\n",
       "\n",
       "    // limit handleAddOutput to display_data with EXEC_MIME_TYPE content only\n",
       "    if ((output.output_type != \"display_data\") || (!output.data.hasOwnProperty(EXEC_MIME_TYPE))) {\n",
       "      return\n",
       "    }\n",
       "\n",
       "    var toinsert = output_area.element.find(\".\" + CLASS_NAME.split(' ')[0]);\n",
       "\n",
       "    if (output.metadata[EXEC_MIME_TYPE][\"id\"] !== undefined) {\n",
       "      toinsert[toinsert.length - 1].firstChild.textContent = output.data[JS_MIME_TYPE];\n",
       "      // store reference to embed id on output_area\n",
       "      output_area._bokeh_element_id = output.metadata[EXEC_MIME_TYPE][\"id\"];\n",
       "    }\n",
       "    if (output.metadata[EXEC_MIME_TYPE][\"server_id\"] !== undefined) {\n",
       "      var bk_div = document.createElement(\"div\");\n",
       "      bk_div.innerHTML = output.data[HTML_MIME_TYPE];\n",
       "      var script_attrs = bk_div.children[0].attributes;\n",
       "      for (var i = 0; i < script_attrs.length; i++) {\n",
       "        toinsert[toinsert.length - 1].firstChild.setAttribute(script_attrs[i].name, script_attrs[i].value);\n",
       "        toinsert[toinsert.length - 1].firstChild.textContent = bk_div.children[0].textContent\n",
       "      }\n",
       "      // store reference to server id on output_area\n",
       "      output_area._bokeh_server_id = output.metadata[EXEC_MIME_TYPE][\"server_id\"];\n",
       "    }\n",
       "  }\n",
       "\n",
       "  function register_renderer(events, OutputArea) {\n",
       "\n",
       "    function append_mime(data, metadata, element) {\n",
       "      // create a DOM node to render to\n",
       "      var toinsert = this.create_output_subarea(\n",
       "        metadata,\n",
       "        CLASS_NAME,\n",
       "        EXEC_MIME_TYPE\n",
       "      );\n",
       "      this.keyboard_manager.register_events(toinsert);\n",
       "      // Render to node\n",
       "      var props = {data: data, metadata: metadata[EXEC_MIME_TYPE]};\n",
       "      render(props, toinsert[toinsert.length - 1]);\n",
       "      element.append(toinsert);\n",
       "      return toinsert\n",
       "    }\n",
       "\n",
       "    /* Handle when an output is cleared or removed */\n",
       "    events.on('clear_output.CodeCell', handleClearOutput);\n",
       "    events.on('delete.Cell', handleClearOutput);\n",
       "\n",
       "    /* Handle when a new output is added */\n",
       "    events.on('output_added.OutputArea', handleAddOutput);\n",
       "\n",
       "    /**\n",
       "     * Register the mime type and append_mime function with output_area\n",
       "     */\n",
       "    OutputArea.prototype.register_mime_type(EXEC_MIME_TYPE, append_mime, {\n",
       "      /* Is output safe? */\n",
       "      safe: true,\n",
       "      /* Index of renderer in `output_area.display_order` */\n",
       "      index: 0\n",
       "    });\n",
       "  }\n",
       "\n",
       "  // register the mime type if in Jupyter Notebook environment and previously unregistered\n",
       "  if (root.Jupyter !== undefined) {\n",
       "    var events = require('base/js/events');\n",
       "    var OutputArea = require('notebook/js/outputarea').OutputArea;\n",
       "\n",
       "    if (OutputArea.prototype.mime_types().indexOf(EXEC_MIME_TYPE) == -1) {\n",
       "      register_renderer(events, OutputArea);\n",
       "    }\n",
       "  }\n",
       "\n",
       "  \n",
       "  if (typeof (root._bokeh_timeout) === \"undefined\" || force === true) {\n",
       "    root._bokeh_timeout = Date.now() + 5000;\n",
       "    root._bokeh_failed_load = false;\n",
       "  }\n",
       "\n",
       "  var NB_LOAD_WARNING = {'data': {'text/html':\n",
       "     \"<div style='background-color: #fdd'>\\n\"+\n",
       "     \"<p>\\n\"+\n",
       "     \"BokehJS does not appear to have successfully loaded. If loading BokehJS from CDN, this \\n\"+\n",
       "     \"may be due to a slow or bad network connection. Possible fixes:\\n\"+\n",
       "     \"</p>\\n\"+\n",
       "     \"<ul>\\n\"+\n",
       "     \"<li>re-rerun `output_notebook()` to attempt to load from CDN again, or</li>\\n\"+\n",
       "     \"<li>use INLINE resources instead, as so:</li>\\n\"+\n",
       "     \"</ul>\\n\"+\n",
       "     \"<code>\\n\"+\n",
       "     \"from bokeh.resources import INLINE\\n\"+\n",
       "     \"output_notebook(resources=INLINE)\\n\"+\n",
       "     \"</code>\\n\"+\n",
       "     \"</div>\"}};\n",
       "\n",
       "  function display_loaded() {\n",
       "    var el = document.getElementById(\"1002\");\n",
       "    if (el != null) {\n",
       "      el.textContent = \"BokehJS is loading...\";\n",
       "    }\n",
       "    if (root.Bokeh !== undefined) {\n",
       "      if (el != null) {\n",
       "        el.textContent = \"BokehJS \" + root.Bokeh.version + \" successfully loaded.\";\n",
       "      }\n",
       "    } else if (Date.now() < root._bokeh_timeout) {\n",
       "      setTimeout(display_loaded, 100)\n",
       "    }\n",
       "  }\n",
       "\n",
       "\n",
       "  function run_callbacks() {\n",
       "    try {\n",
       "      root._bokeh_onload_callbacks.forEach(function(callback) {\n",
       "        if (callback != null)\n",
       "          callback();\n",
       "      });\n",
       "    } finally {\n",
       "      delete root._bokeh_onload_callbacks\n",
       "    }\n",
       "    console.debug(\"Bokeh: all callbacks have finished\");\n",
       "  }\n",
       "\n",
       "  function load_libs(css_urls, js_urls, callback) {\n",
       "    if (css_urls == null) css_urls = [];\n",
       "    if (js_urls == null) js_urls = [];\n",
       "\n",
       "    root._bokeh_onload_callbacks.push(callback);\n",
       "    if (root._bokeh_is_loading > 0) {\n",
       "      console.debug(\"Bokeh: BokehJS is being loaded, scheduling callback at\", now());\n",
       "      return null;\n",
       "    }\n",
       "    if (js_urls == null || js_urls.length === 0) {\n",
       "      run_callbacks();\n",
       "      return null;\n",
       "    }\n",
       "    console.debug(\"Bokeh: BokehJS not loaded, scheduling load and callback at\", now());\n",
       "    root._bokeh_is_loading = css_urls.length + js_urls.length;\n",
       "\n",
       "    function on_load() {\n",
       "      root._bokeh_is_loading--;\n",
       "      if (root._bokeh_is_loading === 0) {\n",
       "        console.debug(\"Bokeh: all BokehJS libraries/stylesheets loaded\");\n",
       "        run_callbacks()\n",
       "      }\n",
       "    }\n",
       "\n",
       "    function on_error() {\n",
       "      console.error(\"failed to load \" + url);\n",
       "    }\n",
       "\n",
       "    for (var i = 0; i < css_urls.length; i++) {\n",
       "      var url = css_urls[i];\n",
       "      const element = document.createElement(\"link\");\n",
       "      element.onload = on_load;\n",
       "      element.onerror = on_error;\n",
       "      element.rel = \"stylesheet\";\n",
       "      element.type = \"text/css\";\n",
       "      element.href = url;\n",
       "      console.debug(\"Bokeh: injecting link tag for BokehJS stylesheet: \", url);\n",
       "      document.body.appendChild(element);\n",
       "    }\n",
       "\n",
       "    const hashes = {\"https://cdn.bokeh.org/bokeh/release/bokeh-2.2.3.min.js\": \"T2yuo9Oe71Cz/I4X9Ac5+gpEa5a8PpJCDlqKYO0CfAuEszu1JrXLl8YugMqYe3sM\", \"https://cdn.bokeh.org/bokeh/release/bokeh-widgets-2.2.3.min.js\": \"98GDGJ0kOMCUMUePhksaQ/GYgB3+NH9h996V88sh3aOiUNX3N+fLXAtry6xctSZ6\", \"https://cdn.bokeh.org/bokeh/release/bokeh-tables-2.2.3.min.js\": \"89bArO+nlbP3sgakeHjCo1JYxYR5wufVgA3IbUvDY+K7w4zyxJqssu7wVnfeKCq8\"};\n",
       "\n",
       "    for (var i = 0; i < js_urls.length; i++) {\n",
       "      var url = js_urls[i];\n",
       "      var element = document.createElement('script');\n",
       "      element.onload = on_load;\n",
       "      element.onerror = on_error;\n",
       "      element.async = false;\n",
       "      element.src = url;\n",
       "      if (url in hashes) {\n",
       "        element.crossOrigin = \"anonymous\";\n",
       "        element.integrity = \"sha384-\" + hashes[url];\n",
       "      }\n",
       "      console.debug(\"Bokeh: injecting script tag for BokehJS library: \", url);\n",
       "      document.head.appendChild(element);\n",
       "    }\n",
       "  };\n",
       "\n",
       "  function inject_raw_css(css) {\n",
       "    const element = document.createElement(\"style\");\n",
       "    element.appendChild(document.createTextNode(css));\n",
       "    document.body.appendChild(element);\n",
       "  }\n",
       "\n",
       "  \n",
       "  var js_urls = [\"https://cdn.bokeh.org/bokeh/release/bokeh-2.2.3.min.js\", \"https://cdn.bokeh.org/bokeh/release/bokeh-widgets-2.2.3.min.js\", \"https://cdn.bokeh.org/bokeh/release/bokeh-tables-2.2.3.min.js\"];\n",
       "  var css_urls = [];\n",
       "  \n",
       "\n",
       "  var inline_js = [\n",
       "    function(Bokeh) {\n",
       "      Bokeh.set_log_level(\"info\");\n",
       "    },\n",
       "    function(Bokeh) {\n",
       "    \n",
       "    \n",
       "    }\n",
       "  ];\n",
       "\n",
       "  function run_inline_js() {\n",
       "    \n",
       "    if (root.Bokeh !== undefined || force === true) {\n",
       "      \n",
       "    for (var i = 0; i < inline_js.length; i++) {\n",
       "      inline_js[i].call(root, root.Bokeh);\n",
       "    }\n",
       "    if (force === true) {\n",
       "        display_loaded();\n",
       "      }} else if (Date.now() < root._bokeh_timeout) {\n",
       "      setTimeout(run_inline_js, 100);\n",
       "    } else if (!root._bokeh_failed_load) {\n",
       "      console.log(\"Bokeh: BokehJS failed to load within specified timeout.\");\n",
       "      root._bokeh_failed_load = true;\n",
       "    } else if (force !== true) {\n",
       "      var cell = $(document.getElementById(\"1002\")).parents('.cell').data().cell;\n",
       "      cell.output_area.append_execute_result(NB_LOAD_WARNING)\n",
       "    }\n",
       "\n",
       "  }\n",
       "\n",
       "  if (root._bokeh_is_loading === 0) {\n",
       "    console.debug(\"Bokeh: BokehJS loaded, going straight to plotting\");\n",
       "    run_inline_js();\n",
       "  } else {\n",
       "    load_libs(css_urls, js_urls, function() {\n",
       "      console.debug(\"Bokeh: BokehJS plotting callback run at\", now());\n",
       "      run_inline_js();\n",
       "    });\n",
       "  }\n",
       "}(window));"
      ],
      "application/vnd.bokehjs_load.v0+json": "\n(function(root) {\n  function now() {\n    return new Date();\n  }\n\n  var force = true;\n\n  if (typeof root._bokeh_onload_callbacks === \"undefined\" || force === true) {\n    root._bokeh_onload_callbacks = [];\n    root._bokeh_is_loading = undefined;\n  }\n\n  \n\n  \n  if (typeof (root._bokeh_timeout) === \"undefined\" || force === true) {\n    root._bokeh_timeout = Date.now() + 5000;\n    root._bokeh_failed_load = false;\n  }\n\n  var NB_LOAD_WARNING = {'data': {'text/html':\n     \"<div style='background-color: #fdd'>\\n\"+\n     \"<p>\\n\"+\n     \"BokehJS does not appear to have successfully loaded. If loading BokehJS from CDN, this \\n\"+\n     \"may be due to a slow or bad network connection. Possible fixes:\\n\"+\n     \"</p>\\n\"+\n     \"<ul>\\n\"+\n     \"<li>re-rerun `output_notebook()` to attempt to load from CDN again, or</li>\\n\"+\n     \"<li>use INLINE resources instead, as so:</li>\\n\"+\n     \"</ul>\\n\"+\n     \"<code>\\n\"+\n     \"from bokeh.resources import INLINE\\n\"+\n     \"output_notebook(resources=INLINE)\\n\"+\n     \"</code>\\n\"+\n     \"</div>\"}};\n\n  function display_loaded() {\n    var el = document.getElementById(\"1002\");\n    if (el != null) {\n      el.textContent = \"BokehJS is loading...\";\n    }\n    if (root.Bokeh !== undefined) {\n      if (el != null) {\n        el.textContent = \"BokehJS \" + root.Bokeh.version + \" successfully loaded.\";\n      }\n    } else if (Date.now() < root._bokeh_timeout) {\n      setTimeout(display_loaded, 100)\n    }\n  }\n\n\n  function run_callbacks() {\n    try {\n      root._bokeh_onload_callbacks.forEach(function(callback) {\n        if (callback != null)\n          callback();\n      });\n    } finally {\n      delete root._bokeh_onload_callbacks\n    }\n    console.debug(\"Bokeh: all callbacks have finished\");\n  }\n\n  function load_libs(css_urls, js_urls, callback) {\n    if (css_urls == null) css_urls = [];\n    if (js_urls == null) js_urls = [];\n\n    root._bokeh_onload_callbacks.push(callback);\n    if (root._bokeh_is_loading > 0) {\n      console.debug(\"Bokeh: BokehJS is being loaded, scheduling callback at\", now());\n      return null;\n    }\n    if (js_urls == null || js_urls.length === 0) {\n      run_callbacks();\n      return null;\n    }\n    console.debug(\"Bokeh: BokehJS not loaded, scheduling load and callback at\", now());\n    root._bokeh_is_loading = css_urls.length + js_urls.length;\n\n    function on_load() {\n      root._bokeh_is_loading--;\n      if (root._bokeh_is_loading === 0) {\n        console.debug(\"Bokeh: all BokehJS libraries/stylesheets loaded\");\n        run_callbacks()\n      }\n    }\n\n    function on_error() {\n      console.error(\"failed to load \" + url);\n    }\n\n    for (var i = 0; i < css_urls.length; i++) {\n      var url = css_urls[i];\n      const element = document.createElement(\"link\");\n      element.onload = on_load;\n      element.onerror = on_error;\n      element.rel = \"stylesheet\";\n      element.type = \"text/css\";\n      element.href = url;\n      console.debug(\"Bokeh: injecting link tag for BokehJS stylesheet: \", url);\n      document.body.appendChild(element);\n    }\n\n    const hashes = {\"https://cdn.bokeh.org/bokeh/release/bokeh-2.2.3.min.js\": \"T2yuo9Oe71Cz/I4X9Ac5+gpEa5a8PpJCDlqKYO0CfAuEszu1JrXLl8YugMqYe3sM\", \"https://cdn.bokeh.org/bokeh/release/bokeh-widgets-2.2.3.min.js\": \"98GDGJ0kOMCUMUePhksaQ/GYgB3+NH9h996V88sh3aOiUNX3N+fLXAtry6xctSZ6\", \"https://cdn.bokeh.org/bokeh/release/bokeh-tables-2.2.3.min.js\": \"89bArO+nlbP3sgakeHjCo1JYxYR5wufVgA3IbUvDY+K7w4zyxJqssu7wVnfeKCq8\"};\n\n    for (var i = 0; i < js_urls.length; i++) {\n      var url = js_urls[i];\n      var element = document.createElement('script');\n      element.onload = on_load;\n      element.onerror = on_error;\n      element.async = false;\n      element.src = url;\n      if (url in hashes) {\n        element.crossOrigin = \"anonymous\";\n        element.integrity = \"sha384-\" + hashes[url];\n      }\n      console.debug(\"Bokeh: injecting script tag for BokehJS library: \", url);\n      document.head.appendChild(element);\n    }\n  };\n\n  function inject_raw_css(css) {\n    const element = document.createElement(\"style\");\n    element.appendChild(document.createTextNode(css));\n    document.body.appendChild(element);\n  }\n\n  \n  var js_urls = [\"https://cdn.bokeh.org/bokeh/release/bokeh-2.2.3.min.js\", \"https://cdn.bokeh.org/bokeh/release/bokeh-widgets-2.2.3.min.js\", \"https://cdn.bokeh.org/bokeh/release/bokeh-tables-2.2.3.min.js\"];\n  var css_urls = [];\n  \n\n  var inline_js = [\n    function(Bokeh) {\n      Bokeh.set_log_level(\"info\");\n    },\n    function(Bokeh) {\n    \n    \n    }\n  ];\n\n  function run_inline_js() {\n    \n    if (root.Bokeh !== undefined || force === true) {\n      \n    for (var i = 0; i < inline_js.length; i++) {\n      inline_js[i].call(root, root.Bokeh);\n    }\n    if (force === true) {\n        display_loaded();\n      }} else if (Date.now() < root._bokeh_timeout) {\n      setTimeout(run_inline_js, 100);\n    } else if (!root._bokeh_failed_load) {\n      console.log(\"Bokeh: BokehJS failed to load within specified timeout.\");\n      root._bokeh_failed_load = true;\n    } else if (force !== true) {\n      var cell = $(document.getElementById(\"1002\")).parents('.cell').data().cell;\n      cell.output_area.append_execute_result(NB_LOAD_WARNING)\n    }\n\n  }\n\n  if (root._bokeh_is_loading === 0) {\n    console.debug(\"Bokeh: BokehJS loaded, going straight to plotting\");\n    run_inline_js();\n  } else {\n    load_libs(css_urls, js_urls, function() {\n      console.debug(\"Bokeh: BokehJS plotting callback run at\", now());\n      run_inline_js();\n    });\n  }\n}(window));"
     },
     "metadata": {},
     "output_type": "display_data"
    },
    {
     "data": {
      "text/html": [
       "\n",
       "\n",
       "\n",
       "\n",
       "\n",
       "\n",
       "  <div class=\"bk-root\" id=\"672de4ab-fff5-4ac7-838f-115433fbc723\" data-root-id=\"1004\"></div>\n"
      ]
     },
     "metadata": {},
     "output_type": "display_data"
    },
    {
     "data": {
      "application/javascript": [
       "(function(root) {\n",
       "  function embed_document(root) {\n",
       "    \n",
       "  var docs_json = {\"a40c12d5-9085-4007-a213-718a18e4fe85\":{\"roots\":{\"references\":[{\"attributes\":{\"below\":[{\"id\":\"1013\"}],\"center\":[{\"id\":\"1016\"},{\"id\":\"1020\"}],\"left\":[{\"id\":\"1017\"}],\"plot_height\":400,\"plot_width\":900,\"renderers\":[{\"id\":\"1041\"}],\"title\":{\"id\":\"1044\"},\"toolbar\":{\"id\":\"1028\"},\"x_range\":{\"id\":\"1005\"},\"x_scale\":{\"id\":\"1009\"},\"y_range\":{\"id\":\"1007\"},\"y_scale\":{\"id\":\"1011\"}},\"id\":\"1004\",\"subtype\":\"Figure\",\"type\":\"Plot\"},{\"attributes\":{\"fill_color\":{\"value\":\"#1f77b4\"},\"line_color\":{\"value\":\"#1f77b4\"},\"x\":{\"field\":\"TrainingStartTime\"},\"y\":{\"field\":\"FinalObjectiveValue\"}},\"id\":\"1039\",\"type\":\"Circle\"},{\"attributes\":{\"axis\":{\"id\":\"1017\"},\"dimension\":1,\"ticker\":null},\"id\":\"1020\",\"type\":\"Grid\"},{\"attributes\":{\"callback\":null,\"tooltips\":[[\"FinalObjectiveValue\",\"@FinalObjectiveValue\"],[\"TrainingJobName\",\"@TrainingJobName\"],[\"mini_batch_size\",\"@{mini_batch_size}\"],[\"learning_rate\",\"@{learning_rate}\"],[\"optimizer\",\"@{optimizer}\"]]},\"id\":\"1003\",\"type\":\"HoverTool\"},{\"attributes\":{},\"id\":\"1018\",\"type\":\"BasicTicker\"},{\"attributes\":{},\"id\":\"1045\",\"type\":\"BasicTickFormatter\"},{\"attributes\":{},\"id\":\"1023\",\"type\":\"WheelZoomTool\"},{\"attributes\":{\"data_source\":{\"id\":\"1037\"},\"glyph\":{\"id\":\"1039\"},\"hover_glyph\":null,\"muted_glyph\":null,\"nonselection_glyph\":{\"id\":\"1040\"},\"selection_glyph\":null,\"view\":{\"id\":\"1042\"}},\"id\":\"1041\",\"type\":\"GlyphRenderer\"},{\"attributes\":{},\"id\":\"1007\",\"type\":\"DataRange1d\"},{\"attributes\":{},\"id\":\"1024\",\"type\":\"ZoomInTool\"},{\"attributes\":{\"text\":\"\"},\"id\":\"1044\",\"type\":\"Title\"},{\"attributes\":{},\"id\":\"1025\",\"type\":\"ZoomOutTool\"},{\"attributes\":{\"fill_alpha\":{\"value\":0.1},\"fill_color\":{\"value\":\"#1f77b4\"},\"line_alpha\":{\"value\":0.1},\"line_color\":{\"value\":\"#1f77b4\"},\"x\":{\"field\":\"TrainingStartTime\"},\"y\":{\"field\":\"FinalObjectiveValue\"}},\"id\":\"1040\",\"type\":\"Circle\"},{\"attributes\":{},\"id\":\"1022\",\"type\":\"CrosshairTool\"},{\"attributes\":{},\"id\":\"1026\",\"type\":\"UndoTool\"},{\"attributes\":{\"days\":[1,4,7,10,13,16,19,22,25,28]},\"id\":\"1053\",\"type\":\"DaysTicker\"},{\"attributes\":{},\"id\":\"1027\",\"type\":\"ResetTool\"},{\"attributes\":{\"days\":[1,8,15,22]},\"id\":\"1054\",\"type\":\"DaysTicker\"},{\"attributes\":{\"active_drag\":\"auto\",\"active_inspect\":\"auto\",\"active_multi\":null,\"active_scroll\":\"auto\",\"active_tap\":\"auto\",\"tools\":[{\"id\":\"1003\"},{\"id\":\"1021\"},{\"id\":\"1022\"},{\"id\":\"1023\"},{\"id\":\"1024\"},{\"id\":\"1025\"},{\"id\":\"1026\"},{\"id\":\"1027\"}]},\"id\":\"1028\",\"type\":\"Toolbar\"},{\"attributes\":{\"days\":[1,15]},\"id\":\"1055\",\"type\":\"DaysTicker\"},{\"attributes\":{\"base\":60,\"mantissas\":[1,2,5,10,15,20,30],\"max_interval\":1800000.0,\"min_interval\":1000.0,\"num_minor_ticks\":0},\"id\":\"1050\",\"type\":\"AdaptiveTicker\"},{\"attributes\":{\"months\":[0,1,2,3,4,5,6,7,8,9,10,11]},\"id\":\"1056\",\"type\":\"MonthsTicker\"},{\"attributes\":{},\"id\":\"1005\",\"type\":\"DataRange1d\"},{\"attributes\":{\"months\":[0,2,4,6,8,10]},\"id\":\"1057\",\"type\":\"MonthsTicker\"},{\"attributes\":{},\"id\":\"1011\",\"type\":\"LinearScale\"},{\"attributes\":{\"num_minor_ticks\":5,\"tickers\":[{\"id\":\"1049\"},{\"id\":\"1050\"},{\"id\":\"1051\"},{\"id\":\"1052\"},{\"id\":\"1053\"},{\"id\":\"1054\"},{\"id\":\"1055\"},{\"id\":\"1056\"},{\"id\":\"1057\"},{\"id\":\"1058\"},{\"id\":\"1059\"},{\"id\":\"1060\"}]},\"id\":\"1014\",\"type\":\"DatetimeTicker\"},{\"attributes\":{\"months\":[0,4,8]},\"id\":\"1058\",\"type\":\"MonthsTicker\"},{\"attributes\":{},\"id\":\"1021\",\"type\":\"PanTool\"},{\"attributes\":{\"axis\":{\"id\":\"1013\"},\"ticker\":null},\"id\":\"1016\",\"type\":\"Grid\"},{\"attributes\":{\"months\":[0,6]},\"id\":\"1059\",\"type\":\"MonthsTicker\"},{\"attributes\":{\"data\":{\"FinalObjectiveValue\":{\"__ndarray__\":\"AAAAoNrE6j8AAAAgdzzqPwAAAICsGeo/AAAAgA0I6j8AAACAljzpPwAAAGDrJ+k/AAAAANsl6T8AAACgbiDpPwAAAOC+AOk/AAAAIITy6D8AAACgP3voPwAAAGBkO+g/AAAAYHHj5z8AAADASdPnPwAAAMA2jec/AAAAIKQ15z8AAACAd53mPwAAAODmYuU/AAAAwPgw5T8AAABAP2HkPwAAAACaluM/AAAAoKcs4z8=\",\"dtype\":\"float64\",\"order\":\"little\",\"shape\":[22]},\"TrainingElapsedTimeSeconds\":{\"__ndarray__\":\"AAAAAAAatkAAAAAAAK6uQAAAAAAAb7hAAAAAAAAwnkAAAAAAANiUQAAAAAAAKItAAAAAAADaoEAAAAAAAPCNQAAAAAAAWIZAAAAAAAAqoUAAAAAAAMClQAAAAAAA5JVAAAAAAACslUAAAAAAANyYQAAAAAAA/rxAAAAAAIAUwkAAAAAAAJCYQAAAAAAASJVAAAAAAACUmEAAAAAAADymQAAAAAAAtJRAAAAAAADwlEA=\",\"dtype\":\"float64\",\"order\":\"little\",\"shape\":[22]},\"TrainingEndTime\":{\"__ndarray__\":\"AIBp2tPDd0IAAE5I2cN3QgCAa+vew3dCAACPNN7Dd0IAgHixz8N3QgAAJcrBw3dCAIAyHM7Dd0IAAPwB4MN3QgAA8aLCw3dCAIDNF87Dd0IAAD252MN3QgCA9+DVw3dCAABaXtXDd0IAAOrV0sN3QgAAb+HJw3dCAIBDycnDd0IAAHXUy8N3QgAAilzUw3dCAADy1MvDd0IAgEUt3MN3QgAAv6Pfw3dCAICKJdHDd0I=\",\"dtype\":\"float64\",\"order\":\"little\",\"shape\":[22]},\"TrainingJobName\":[\"34LPT-imageclass-job-01-13-29-44-009-e214dfe7\",\"34LPT-imageclass-job-01-13-29-44-016-2ef16ef3\",\"34LPT-imageclass-job-01-13-29-44-018-6b93f870\",\"34LPT-imageclass-job-01-13-29-44-020-e371c0f7\",\"34LPT-imageclass-job-01-13-29-44-010-7088e7d7\",\"34LPT-imageclass-job-01-13-29-44-002-8108ccc2\",\"34LPT-imageclass-job-01-13-29-44-008-c7259e40\",\"34LPT-imageclass-job-01-13-29-44-022-2100f34f\",\"34LPT-imageclass-job-01-13-29-44-003-b0ec9d6a\",\"34LPT-imageclass-job-01-13-29-44-007-02220c3b\",\"34LPT-imageclass-job-01-13-29-44-017-8a14e119\",\"34LPT-imageclass-job-01-13-29-44-015-355b2483\",\"34LPT-imageclass-job-01-13-29-44-014-1b91fe8b\",\"34LPT-imageclass-job-01-13-29-44-012-ce6cc8b7\",\"34LPT-imageclass-job-01-13-29-44-004-b5987d52\",\"34LPT-imageclass-job-01-13-29-44-001-a1e9ac77\",\"34LPT-imageclass-job-01-13-29-44-005-30de36c8\",\"34LPT-imageclass-job-01-13-29-44-013-4959ab0a\",\"34LPT-imageclass-job-01-13-29-44-006-6455f272\",\"34LPT-imageclass-job-01-13-29-44-019-c3b5ed03\",\"34LPT-imageclass-job-01-13-29-44-021-5e684550\",\"34LPT-imageclass-job-01-13-29-44-011-d63c51c0\"],\"TrainingJobStatus\":[\"Stopped\",\"Stopped\",\"Stopped\",\"Stopped\",\"Stopped\",\"Stopped\",\"Stopped\",\"Stopped\",\"Stopped\",\"Stopped\",\"Stopped\",\"Stopped\",\"Stopped\",\"Stopped\",\"Stopped\",\"Stopped\",\"Stopped\",\"Stopped\",\"Stopped\",\"Stopped\",\"Stopped\",\"Stopped\"],\"TrainingStartTime\":{\"__ndarray__\":\"AIAQdc7Dd0IAgJCJ1cN3QgAAUvTYw3dCAADhXNzDd0IAgMlrzsN3QgCA/PXAw3dCAACWDczDd0IAABkY38N3QgCAYfTBw3dCAABt/8vDd0IAAI0R1sN3QgAA7YrUw3dCAIC6C9TDd0IAgHxR0cN3QgAAbM3Cw3dCAABB9cDDd0IAAKtUysN3QgAABRDTw3dCAIDpVMrDd0IAgHJ22cN3QgCAQmDew3dCAIBk3s/Dd0I=\",\"dtype\":\"float64\",\"order\":\"little\",\"shape\":[22]},\"index\":[14,7,5,3,13,21,15,1,20,16,6,8,9,11,19,22,18,10,17,4,2,12],\"learning_rate\":{\"__ndarray__\":\"9jpcSwZAYj/dS0ofKo5jPxHB8J05qGI/IMMWNaCEOT92lRfR+tFcP4vuRUABt1c/6FUI53uqXD/v//UAwR5fPwzrIUw0iu0+XXYaP0n18D4Xo3FsCuLyPtuh+rIz9GQ/hUEIXYq7gj+oVC3pTCVLP7vZwOAjvnQ/N9O00hxWKj8n9T62Z0D5PgJeRqG2HoA/jgF768zg6z5vM73niwFpPyTQoxWgJFA/3HT6uSWLZT8=\",\"dtype\":\"float64\",\"order\":\"little\",\"shape\":[22]},\"mini_batch_size\":{\"__ndarray__\":\"AAAAAACAQUAAAAAAAIBBQAAAAAAAADxAAAAAAAAASkAAAAAAAABPQAAAAAAAgE5AAAAAAAAAR0AAAAAAAAA+QAAAAAAAAERAAAAAAAAAREAAAAAAAABAQAAAAAAAgEFAAAAAAACATEAAAAAAAABCQAAAAAAAgExAAAAAAACASEAAAAAAAAA8QAAAAAAAAERAAAAAAACATkAAAAAAAAAwQAAAAAAAgE5AAAAAAACAQkA=\",\"dtype\":\"float64\",\"order\":\"little\",\"shape\":[22]},\"optimizer\":[\"sgd\",\"sgd\",\"sgd\",\"sgd\",\"sgd\",\"nag\",\"nag\",\"sgd\",\"adam\",\"adam\",\"adam\",\"sgd\",\"sgd\",\"sgd\",\"nag\",\"adam\",\"sgd\",\"sgd\",\"nag\",\"nag\",\"adam\",\"adam\"]},\"selected\":{\"id\":\"1061\"},\"selection_policy\":{\"id\":\"1062\"}},\"id\":\"1037\",\"type\":\"ColumnDataSource\"},{\"attributes\":{\"mantissas\":[1,2,5],\"max_interval\":500.0,\"num_minor_ticks\":0},\"id\":\"1049\",\"type\":\"AdaptiveTicker\"},{\"attributes\":{\"base\":24,\"mantissas\":[1,2,4,6,8,12],\"max_interval\":43200000.0,\"min_interval\":3600000.0,\"num_minor_ticks\":0},\"id\":\"1051\",\"type\":\"AdaptiveTicker\"},{\"attributes\":{},\"id\":\"1009\",\"type\":\"LinearScale\"},{\"attributes\":{},\"id\":\"1060\",\"type\":\"YearsTicker\"},{\"attributes\":{\"days\":[1,2,3,4,5,6,7,8,9,10,11,12,13,14,15,16,17,18,19,20,21,22,23,24,25,26,27,28,29,30,31]},\"id\":\"1052\",\"type\":\"DaysTicker\"},{\"attributes\":{\"formatter\":{\"id\":\"1047\"},\"ticker\":{\"id\":\"1014\"}},\"id\":\"1013\",\"type\":\"DatetimeAxis\"},{\"attributes\":{},\"id\":\"1061\",\"type\":\"Selection\"},{\"attributes\":{\"source\":{\"id\":\"1037\"}},\"id\":\"1042\",\"type\":\"CDSView\"},{\"attributes\":{},\"id\":\"1062\",\"type\":\"UnionRenderers\"},{\"attributes\":{\"formatter\":{\"id\":\"1045\"},\"ticker\":{\"id\":\"1018\"}},\"id\":\"1017\",\"type\":\"LinearAxis\"},{\"attributes\":{},\"id\":\"1047\",\"type\":\"DatetimeTickFormatter\"}],\"root_ids\":[\"1004\"]},\"title\":\"Bokeh Application\",\"version\":\"2.2.3\"}};\n",
       "  var render_items = [{\"docid\":\"a40c12d5-9085-4007-a213-718a18e4fe85\",\"root_ids\":[\"1004\"],\"roots\":{\"1004\":\"672de4ab-fff5-4ac7-838f-115433fbc723\"}}];\n",
       "  root.Bokeh.embed.embed_items_notebook(docs_json, render_items);\n",
       "\n",
       "  }\n",
       "  if (root.Bokeh !== undefined) {\n",
       "    embed_document(root);\n",
       "  } else {\n",
       "    var attempts = 0;\n",
       "    var timer = setInterval(function(root) {\n",
       "      if (root.Bokeh !== undefined) {\n",
       "        clearInterval(timer);\n",
       "        embed_document(root);\n",
       "      } else {\n",
       "        attempts++;\n",
       "        if (attempts > 100) {\n",
       "          clearInterval(timer);\n",
       "          console.log(\"Bokeh: ERROR: Unable to run BokehJS code because BokehJS library is missing\");\n",
       "        }\n",
       "      }\n",
       "    }, 10, root)\n",
       "  }\n",
       "})(window);"
      ],
      "application/vnd.bokehjs_exec.v0+json": ""
     },
     "metadata": {
      "application/vnd.bokehjs_exec.v0+json": {
       "id": "1004"
      }
     },
     "output_type": "display_data"
    }
   ],
   "source": [
    "import bokeh\n",
    "import bokeh.io\n",
    "\n",
    "bokeh.io.output_notebook()\n",
    "from bokeh.plotting import figure, show\n",
    "from bokeh.models import HoverTool\n",
    "\n",
    "class HoverHelper:\n",
    "    def __init__(self, tuning_analytics):\n",
    "        self.tuner = tuning_analytics\n",
    "\n",
    "    def hovertool(self):\n",
    "        tooltips = [\n",
    "            (\"FinalObjectiveValue\", \"@FinalObjectiveValue\"),\n",
    "            (\"TrainingJobName\", \"@TrainingJobName\"),\n",
    "        ]\n",
    "        for k in self.tuner.tuning_ranges.keys():\n",
    "            tooltips.append((k, \"@{%s}\" % k))\n",
    "\n",
    "        ht = HoverTool(tooltips=tooltips)\n",
    "        return ht\n",
    "\n",
    "    def tools(self, standard_tools=\"pan,crosshair,wheel_zoom,zoom_in,zoom_out,undo,reset\"):\n",
    "        return [self.hovertool(), standard_tools]\n",
    "\n",
    "\n",
    "hover = HoverHelper(tuner)\n",
    "\n",
    "p = figure(plot_width=900, plot_height=400, tools=hover.tools(), x_axis_type=\"datetime\")\n",
    "p.circle(source=df, x=\"TrainingStartTime\", y=\"FinalObjectiveValue\")\n",
    "show(p)"
   ]
  },
  {
   "cell_type": "markdown",
   "metadata": {},
   "source": [
    "![Performance vs. Time Scatterplot](https://github.com/jrbarclay37/PCam-Image-Classification/blob/main/images/BokehJS_scatter.PNG?raw=True)"
   ]
  },
  {
   "cell_type": "markdown",
   "metadata": {},
   "source": [
    "### c) Analyze correlation between objective metric and individual hyperparameters\n",
    "\n",
    "We can also use BokehJS to visualize the correlation between each hyperparameter value and our objective metric."
   ]
  },
  {
   "cell_type": "code",
   "execution_count": 12,
   "metadata": {},
   "outputs": [
    {
     "data": {
      "text/html": [
       "\n",
       "\n",
       "\n",
       "\n",
       "\n",
       "\n",
       "  <div class=\"bk-root\" id=\"6eda52fc-6eb2-45b6-a9ad-ae80bfce453d\" data-root-id=\"1288\"></div>\n"
      ]
     },
     "metadata": {},
     "output_type": "display_data"
    },
    {
     "data": {
      "application/javascript": [
       "(function(root) {\n",
       "  function embed_document(root) {\n",
       "    \n",
       "  var docs_json = {\"03ab89b6-37fc-43e4-b6eb-f93a3bde669f\":{\"roots\":{\"references\":[{\"attributes\":{\"children\":[{\"id\":\"1164\"},{\"id\":\"1206\"},{\"id\":\"1248\"}]},\"id\":\"1288\",\"type\":\"Column\"},{\"attributes\":{\"axis\":{\"id\":\"1221\"},\"dimension\":1,\"ticker\":null},\"id\":\"1224\",\"type\":\"Grid\"},{\"attributes\":{},\"id\":\"1328\",\"type\":\"Selection\"},{\"attributes\":{\"text\":\"Objective vs optimizer\"},\"id\":\"1249\",\"type\":\"Title\"},{\"attributes\":{\"fill_alpha\":{\"value\":0.1},\"fill_color\":{\"value\":\"#1f77b4\"},\"line_alpha\":{\"value\":0.1},\"line_color\":{\"value\":\"#1f77b4\"},\"x\":{\"field\":\"learning_rate\"},\"y\":{\"field\":\"FinalObjectiveValue\"}},\"id\":\"1244\",\"type\":\"Circle\"},{\"attributes\":{\"below\":[{\"id\":\"1259\"}],\"center\":[{\"id\":\"1261\"},{\"id\":\"1265\"}],\"left\":[{\"id\":\"1262\"}],\"plot_height\":500,\"plot_width\":500,\"renderers\":[{\"id\":\"1286\"}],\"title\":{\"id\":\"1249\"},\"toolbar\":{\"id\":\"1273\"},\"x_range\":{\"id\":\"1251\"},\"x_scale\":{\"id\":\"1255\"},\"y_range\":{\"id\":\"1253\"},\"y_scale\":{\"id\":\"1257\"}},\"id\":\"1248\",\"subtype\":\"Figure\",\"type\":\"Plot\"},{\"attributes\":{},\"id\":\"1329\",\"type\":\"UnionRenderers\"},{\"attributes\":{},\"id\":\"1222\",\"type\":\"BasicTicker\"},{\"attributes\":{\"callback\":null,\"tooltips\":[[\"FinalObjectiveValue\",\"@FinalObjectiveValue\"],[\"TrainingJobName\",\"@TrainingJobName\"],[\"mini_batch_size\",\"@{mini_batch_size}\"],[\"learning_rate\",\"@{learning_rate}\"],[\"optimizer\",\"@{optimizer}\"]]},\"id\":\"1247\",\"type\":\"HoverTool\"},{\"attributes\":{\"axis_label\":\"validation:accuracy\",\"formatter\":{\"id\":\"1316\"},\"ticker\":{\"id\":\"1222\"}},\"id\":\"1221\",\"type\":\"LinearAxis\"},{\"attributes\":{\"source\":{\"id\":\"1241\"}},\"id\":\"1246\",\"type\":\"CDSView\"},{\"attributes\":{\"axis\":{\"id\":\"1217\"},\"ticker\":null},\"id\":\"1220\",\"type\":\"Grid\"},{\"attributes\":{\"data_source\":{\"id\":\"1241\"},\"glyph\":{\"id\":\"1243\"},\"hover_glyph\":null,\"muted_glyph\":null,\"nonselection_glyph\":{\"id\":\"1244\"},\"selection_glyph\":null,\"view\":{\"id\":\"1246\"}},\"id\":\"1245\",\"type\":\"GlyphRenderer\"},{\"attributes\":{},\"id\":\"1215\",\"type\":\"LinearScale\"},{\"attributes\":{},\"id\":\"1209\",\"type\":\"DataRange1d\"},{\"attributes\":{},\"id\":\"1180\",\"type\":\"BasicTicker\"},{\"attributes\":{\"fill_alpha\":{\"value\":0.1},\"fill_color\":{\"value\":\"#1f77b4\"},\"line_alpha\":{\"value\":0.1},\"line_color\":{\"value\":\"#1f77b4\"},\"x\":{\"field\":\"mini_batch_size\"},\"y\":{\"field\":\"FinalObjectiveValue\"}},\"id\":\"1202\",\"type\":\"Circle\"},{\"attributes\":{\"axis_label\":\"validation:accuracy\",\"formatter\":{\"id\":\"1312\"},\"ticker\":{\"id\":\"1180\"}},\"id\":\"1179\",\"type\":\"LinearAxis\"},{\"attributes\":{},\"id\":\"1253\",\"type\":\"DataRange1d\"},{\"attributes\":{\"data\":{\"FinalObjectiveValue\":{\"__ndarray__\":\"AAAAoNrE6j8AAAAgdzzqPwAAAICsGeo/AAAAgA0I6j8AAACAljzpPwAAAGDrJ+k/AAAAANsl6T8AAACgbiDpPwAAAOC+AOk/AAAAIITy6D8AAACgP3voPwAAAGBkO+g/AAAAYHHj5z8AAADASdPnPwAAAMA2jec/AAAAIKQ15z8AAACAd53mPwAAAODmYuU/AAAAwPgw5T8AAABAP2HkPwAAAACaluM/AAAAoKcs4z8=\",\"dtype\":\"float64\",\"order\":\"little\",\"shape\":[22]},\"TrainingElapsedTimeSeconds\":{\"__ndarray__\":\"AAAAAAAatkAAAAAAAK6uQAAAAAAAb7hAAAAAAAAwnkAAAAAAANiUQAAAAAAAKItAAAAAAADaoEAAAAAAAPCNQAAAAAAAWIZAAAAAAAAqoUAAAAAAAMClQAAAAAAA5JVAAAAAAACslUAAAAAAANyYQAAAAAAA/rxAAAAAAIAUwkAAAAAAAJCYQAAAAAAASJVAAAAAAACUmEAAAAAAADymQAAAAAAAtJRAAAAAAADwlEA=\",\"dtype\":\"float64\",\"order\":\"little\",\"shape\":[22]},\"TrainingEndTime\":{\"__ndarray__\":\"AIBp2tPDd0IAAE5I2cN3QgCAa+vew3dCAACPNN7Dd0IAgHixz8N3QgAAJcrBw3dCAIAyHM7Dd0IAAPwB4MN3QgAA8aLCw3dCAIDNF87Dd0IAAD252MN3QgCA9+DVw3dCAABaXtXDd0IAAOrV0sN3QgAAb+HJw3dCAIBDycnDd0IAAHXUy8N3QgAAilzUw3dCAADy1MvDd0IAgEUt3MN3QgAAv6Pfw3dCAICKJdHDd0I=\",\"dtype\":\"float64\",\"order\":\"little\",\"shape\":[22]},\"TrainingJobName\":[\"34LPT-imageclass-job-01-13-29-44-009-e214dfe7\",\"34LPT-imageclass-job-01-13-29-44-016-2ef16ef3\",\"34LPT-imageclass-job-01-13-29-44-018-6b93f870\",\"34LPT-imageclass-job-01-13-29-44-020-e371c0f7\",\"34LPT-imageclass-job-01-13-29-44-010-7088e7d7\",\"34LPT-imageclass-job-01-13-29-44-002-8108ccc2\",\"34LPT-imageclass-job-01-13-29-44-008-c7259e40\",\"34LPT-imageclass-job-01-13-29-44-022-2100f34f\",\"34LPT-imageclass-job-01-13-29-44-003-b0ec9d6a\",\"34LPT-imageclass-job-01-13-29-44-007-02220c3b\",\"34LPT-imageclass-job-01-13-29-44-017-8a14e119\",\"34LPT-imageclass-job-01-13-29-44-015-355b2483\",\"34LPT-imageclass-job-01-13-29-44-014-1b91fe8b\",\"34LPT-imageclass-job-01-13-29-44-012-ce6cc8b7\",\"34LPT-imageclass-job-01-13-29-44-004-b5987d52\",\"34LPT-imageclass-job-01-13-29-44-001-a1e9ac77\",\"34LPT-imageclass-job-01-13-29-44-005-30de36c8\",\"34LPT-imageclass-job-01-13-29-44-013-4959ab0a\",\"34LPT-imageclass-job-01-13-29-44-006-6455f272\",\"34LPT-imageclass-job-01-13-29-44-019-c3b5ed03\",\"34LPT-imageclass-job-01-13-29-44-021-5e684550\",\"34LPT-imageclass-job-01-13-29-44-011-d63c51c0\"],\"TrainingJobStatus\":[\"Stopped\",\"Stopped\",\"Stopped\",\"Stopped\",\"Stopped\",\"Stopped\",\"Stopped\",\"Stopped\",\"Stopped\",\"Stopped\",\"Stopped\",\"Stopped\",\"Stopped\",\"Stopped\",\"Stopped\",\"Stopped\",\"Stopped\",\"Stopped\",\"Stopped\",\"Stopped\",\"Stopped\",\"Stopped\"],\"TrainingStartTime\":{\"__ndarray__\":\"AIAQdc7Dd0IAgJCJ1cN3QgAAUvTYw3dCAADhXNzDd0IAgMlrzsN3QgCA/PXAw3dCAACWDczDd0IAABkY38N3QgCAYfTBw3dCAABt/8vDd0IAAI0R1sN3QgAA7YrUw3dCAIC6C9TDd0IAgHxR0cN3QgAAbM3Cw3dCAABB9cDDd0IAAKtUysN3QgAABRDTw3dCAIDpVMrDd0IAgHJ22cN3QgCAQmDew3dCAIBk3s/Dd0I=\",\"dtype\":\"float64\",\"order\":\"little\",\"shape\":[22]},\"index\":[14,7,5,3,13,21,15,1,20,16,6,8,9,11,19,22,18,10,17,4,2,12],\"learning_rate\":{\"__ndarray__\":\"9jpcSwZAYj/dS0ofKo5jPxHB8J05qGI/IMMWNaCEOT92lRfR+tFcP4vuRUABt1c/6FUI53uqXD/v//UAwR5fPwzrIUw0iu0+XXYaP0n18D4Xo3FsCuLyPtuh+rIz9GQ/hUEIXYq7gj+oVC3pTCVLP7vZwOAjvnQ/N9O00hxWKj8n9T62Z0D5PgJeRqG2HoA/jgF768zg6z5vM73niwFpPyTQoxWgJFA/3HT6uSWLZT8=\",\"dtype\":\"float64\",\"order\":\"little\",\"shape\":[22]},\"mini_batch_size\":{\"__ndarray__\":\"AAAAAACAQUAAAAAAAIBBQAAAAAAAADxAAAAAAAAASkAAAAAAAABPQAAAAAAAgE5AAAAAAAAAR0AAAAAAAAA+QAAAAAAAAERAAAAAAAAAREAAAAAAAABAQAAAAAAAgEFAAAAAAACATEAAAAAAAABCQAAAAAAAgExAAAAAAACASEAAAAAAAAA8QAAAAAAAAERAAAAAAACATkAAAAAAAAAwQAAAAAAAgE5AAAAAAACAQkA=\",\"dtype\":\"float64\",\"order\":\"little\",\"shape\":[22]},\"optimizer\":[\"sgd\",\"sgd\",\"sgd\",\"sgd\",\"sgd\",\"nag\",\"nag\",\"sgd\",\"adam\",\"adam\",\"adam\",\"sgd\",\"sgd\",\"sgd\",\"nag\",\"adam\",\"sgd\",\"sgd\",\"nag\",\"nag\",\"adam\",\"adam\"]},\"selected\":{\"id\":\"1328\"},\"selection_policy\":{\"id\":\"1329\"}},\"id\":\"1282\",\"type\":\"ColumnDataSource\"},{\"attributes\":{},\"id\":\"1255\",\"type\":\"CategoricalScale\"},{\"attributes\":{\"text\":\"Objective vs learning_rate\"},\"id\":\"1207\",\"type\":\"Title\"},{\"attributes\":{\"below\":[{\"id\":\"1217\"}],\"center\":[{\"id\":\"1220\"},{\"id\":\"1224\"}],\"left\":[{\"id\":\"1221\"}],\"plot_height\":500,\"plot_width\":500,\"renderers\":[{\"id\":\"1245\"}],\"title\":{\"id\":\"1207\"},\"toolbar\":{\"id\":\"1232\"},\"x_range\":{\"id\":\"1209\"},\"x_scale\":{\"id\":\"1213\"},\"y_range\":{\"id\":\"1211\"},\"y_scale\":{\"id\":\"1215\"}},\"id\":\"1206\",\"subtype\":\"Figure\",\"type\":\"Plot\"},{\"attributes\":{},\"id\":\"1257\",\"type\":\"LinearScale\"},{\"attributes\":{\"axis_label\":\"optimizer\",\"formatter\":{\"id\":\"1322\"},\"ticker\":{\"id\":\"1260\"}},\"id\":\"1259\",\"type\":\"CategoricalAxis\"},{\"attributes\":{\"callback\":null,\"tooltips\":[[\"FinalObjectiveValue\",\"@FinalObjectiveValue\"],[\"TrainingJobName\",\"@TrainingJobName\"],[\"mini_batch_size\",\"@{mini_batch_size}\"],[\"learning_rate\",\"@{learning_rate}\"],[\"optimizer\",\"@{optimizer}\"]]},\"id\":\"1205\",\"type\":\"HoverTool\"},{\"attributes\":{\"source\":{\"id\":\"1199\"}},\"id\":\"1204\",\"type\":\"CDSView\"},{\"attributes\":{},\"id\":\"1260\",\"type\":\"CategoricalTicker\"},{\"attributes\":{\"data_source\":{\"id\":\"1199\"},\"glyph\":{\"id\":\"1201\"},\"hover_glyph\":null,\"muted_glyph\":null,\"nonselection_glyph\":{\"id\":\"1202\"},\"selection_glyph\":null,\"view\":{\"id\":\"1204\"}},\"id\":\"1203\",\"type\":\"GlyphRenderer\"},{\"attributes\":{\"axis\":{\"id\":\"1259\"},\"ticker\":null},\"id\":\"1261\",\"type\":\"Grid\"},{\"attributes\":{\"axis_label\":\"validation:accuracy\",\"formatter\":{\"id\":\"1320\"},\"ticker\":{\"id\":\"1263\"}},\"id\":\"1262\",\"type\":\"LinearAxis\"},{\"attributes\":{\"axis_label\":\"learning_rate\",\"formatter\":{\"id\":\"1318\"},\"ticker\":{\"id\":\"1218\"}},\"id\":\"1217\",\"type\":\"LinearAxis\"},{\"attributes\":{},\"id\":\"1263\",\"type\":\"BasicTicker\"},{\"attributes\":{\"axis\":{\"id\":\"1262\"},\"dimension\":1,\"ticker\":null},\"id\":\"1265\",\"type\":\"Grid\"},{\"attributes\":{},\"id\":\"1218\",\"type\":\"BasicTicker\"},{\"attributes\":{},\"id\":\"1211\",\"type\":\"DataRange1d\"},{\"attributes\":{},\"id\":\"1228\",\"type\":\"ZoomInTool\"},{\"attributes\":{},\"id\":\"1312\",\"type\":\"BasicTickFormatter\"},{\"attributes\":{\"data\":{\"FinalObjectiveValue\":{\"__ndarray__\":\"AAAAoNrE6j8AAAAgdzzqPwAAAICsGeo/AAAAgA0I6j8AAACAljzpPwAAAGDrJ+k/AAAAANsl6T8AAACgbiDpPwAAAOC+AOk/AAAAIITy6D8AAACgP3voPwAAAGBkO+g/AAAAYHHj5z8AAADASdPnPwAAAMA2jec/AAAAIKQ15z8AAACAd53mPwAAAODmYuU/AAAAwPgw5T8AAABAP2HkPwAAAACaluM/AAAAoKcs4z8=\",\"dtype\":\"float64\",\"order\":\"little\",\"shape\":[22]},\"TrainingElapsedTimeSeconds\":{\"__ndarray__\":\"AAAAAAAatkAAAAAAAK6uQAAAAAAAb7hAAAAAAAAwnkAAAAAAANiUQAAAAAAAKItAAAAAAADaoEAAAAAAAPCNQAAAAAAAWIZAAAAAAAAqoUAAAAAAAMClQAAAAAAA5JVAAAAAAACslUAAAAAAANyYQAAAAAAA/rxAAAAAAIAUwkAAAAAAAJCYQAAAAAAASJVAAAAAAACUmEAAAAAAADymQAAAAAAAtJRAAAAAAADwlEA=\",\"dtype\":\"float64\",\"order\":\"little\",\"shape\":[22]},\"TrainingEndTime\":{\"__ndarray__\":\"AIBp2tPDd0IAAE5I2cN3QgCAa+vew3dCAACPNN7Dd0IAgHixz8N3QgAAJcrBw3dCAIAyHM7Dd0IAAPwB4MN3QgAA8aLCw3dCAIDNF87Dd0IAAD252MN3QgCA9+DVw3dCAABaXtXDd0IAAOrV0sN3QgAAb+HJw3dCAIBDycnDd0IAAHXUy8N3QgAAilzUw3dCAADy1MvDd0IAgEUt3MN3QgAAv6Pfw3dCAICKJdHDd0I=\",\"dtype\":\"float64\",\"order\":\"little\",\"shape\":[22]},\"TrainingJobName\":[\"34LPT-imageclass-job-01-13-29-44-009-e214dfe7\",\"34LPT-imageclass-job-01-13-29-44-016-2ef16ef3\",\"34LPT-imageclass-job-01-13-29-44-018-6b93f870\",\"34LPT-imageclass-job-01-13-29-44-020-e371c0f7\",\"34LPT-imageclass-job-01-13-29-44-010-7088e7d7\",\"34LPT-imageclass-job-01-13-29-44-002-8108ccc2\",\"34LPT-imageclass-job-01-13-29-44-008-c7259e40\",\"34LPT-imageclass-job-01-13-29-44-022-2100f34f\",\"34LPT-imageclass-job-01-13-29-44-003-b0ec9d6a\",\"34LPT-imageclass-job-01-13-29-44-007-02220c3b\",\"34LPT-imageclass-job-01-13-29-44-017-8a14e119\",\"34LPT-imageclass-job-01-13-29-44-015-355b2483\",\"34LPT-imageclass-job-01-13-29-44-014-1b91fe8b\",\"34LPT-imageclass-job-01-13-29-44-012-ce6cc8b7\",\"34LPT-imageclass-job-01-13-29-44-004-b5987d52\",\"34LPT-imageclass-job-01-13-29-44-001-a1e9ac77\",\"34LPT-imageclass-job-01-13-29-44-005-30de36c8\",\"34LPT-imageclass-job-01-13-29-44-013-4959ab0a\",\"34LPT-imageclass-job-01-13-29-44-006-6455f272\",\"34LPT-imageclass-job-01-13-29-44-019-c3b5ed03\",\"34LPT-imageclass-job-01-13-29-44-021-5e684550\",\"34LPT-imageclass-job-01-13-29-44-011-d63c51c0\"],\"TrainingJobStatus\":[\"Stopped\",\"Stopped\",\"Stopped\",\"Stopped\",\"Stopped\",\"Stopped\",\"Stopped\",\"Stopped\",\"Stopped\",\"Stopped\",\"Stopped\",\"Stopped\",\"Stopped\",\"Stopped\",\"Stopped\",\"Stopped\",\"Stopped\",\"Stopped\",\"Stopped\",\"Stopped\",\"Stopped\",\"Stopped\"],\"TrainingStartTime\":{\"__ndarray__\":\"AIAQdc7Dd0IAgJCJ1cN3QgAAUvTYw3dCAADhXNzDd0IAgMlrzsN3QgCA/PXAw3dCAACWDczDd0IAABkY38N3QgCAYfTBw3dCAABt/8vDd0IAAI0R1sN3QgAA7YrUw3dCAIC6C9TDd0IAgHxR0cN3QgAAbM3Cw3dCAABB9cDDd0IAAKtUysN3QgAABRDTw3dCAIDpVMrDd0IAgHJ22cN3QgCAQmDew3dCAIBk3s/Dd0I=\",\"dtype\":\"float64\",\"order\":\"little\",\"shape\":[22]},\"index\":[14,7,5,3,13,21,15,1,20,16,6,8,9,11,19,22,18,10,17,4,2,12],\"learning_rate\":{\"__ndarray__\":\"9jpcSwZAYj/dS0ofKo5jPxHB8J05qGI/IMMWNaCEOT92lRfR+tFcP4vuRUABt1c/6FUI53uqXD/v//UAwR5fPwzrIUw0iu0+XXYaP0n18D4Xo3FsCuLyPtuh+rIz9GQ/hUEIXYq7gj+oVC3pTCVLP7vZwOAjvnQ/N9O00hxWKj8n9T62Z0D5PgJeRqG2HoA/jgF768zg6z5vM73niwFpPyTQoxWgJFA/3HT6uSWLZT8=\",\"dtype\":\"float64\",\"order\":\"little\",\"shape\":[22]},\"mini_batch_size\":{\"__ndarray__\":\"AAAAAACAQUAAAAAAAIBBQAAAAAAAADxAAAAAAAAASkAAAAAAAABPQAAAAAAAgE5AAAAAAAAAR0AAAAAAAAA+QAAAAAAAAERAAAAAAAAAREAAAAAAAABAQAAAAAAAgEFAAAAAAACATEAAAAAAAABCQAAAAAAAgExAAAAAAACASEAAAAAAAAA8QAAAAAAAAERAAAAAAACATkAAAAAAAAAwQAAAAAAAgE5AAAAAAACAQkA=\",\"dtype\":\"float64\",\"order\":\"little\",\"shape\":[22]},\"optimizer\":[\"sgd\",\"sgd\",\"sgd\",\"sgd\",\"sgd\",\"nag\",\"nag\",\"sgd\",\"adam\",\"adam\",\"adam\",\"sgd\",\"sgd\",\"sgd\",\"nag\",\"adam\",\"sgd\",\"sgd\",\"nag\",\"nag\",\"adam\",\"adam\"]},\"selected\":{\"id\":\"1326\"},\"selection_policy\":{\"id\":\"1327\"}},\"id\":\"1241\",\"type\":\"ColumnDataSource\"},{\"attributes\":{},\"id\":\"1266\",\"type\":\"PanTool\"},{\"attributes\":{\"fill_alpha\":{\"value\":0.1},\"fill_color\":{\"value\":\"#1f77b4\"},\"line_alpha\":{\"value\":0.1},\"line_color\":{\"value\":\"#1f77b4\"},\"x\":{\"field\":\"optimizer\"},\"y\":{\"field\":\"FinalObjectiveValue\"}},\"id\":\"1285\",\"type\":\"Circle\"},{\"attributes\":{},\"id\":\"1225\",\"type\":\"PanTool\"},{\"attributes\":{},\"id\":\"1267\",\"type\":\"CrosshairTool\"},{\"attributes\":{},\"id\":\"1226\",\"type\":\"CrosshairTool\"},{\"attributes\":{},\"id\":\"1268\",\"type\":\"WheelZoomTool\"},{\"attributes\":{},\"id\":\"1227\",\"type\":\"WheelZoomTool\"},{\"attributes\":{},\"id\":\"1229\",\"type\":\"ZoomOutTool\"},{\"attributes\":{},\"id\":\"1269\",\"type\":\"ZoomInTool\"},{\"attributes\":{},\"id\":\"1270\",\"type\":\"ZoomOutTool\"},{\"attributes\":{},\"id\":\"1271\",\"type\":\"UndoTool\"},{\"attributes\":{},\"id\":\"1231\",\"type\":\"ResetTool\"},{\"attributes\":{},\"id\":\"1272\",\"type\":\"ResetTool\"},{\"attributes\":{},\"id\":\"1230\",\"type\":\"UndoTool\"},{\"attributes\":{\"active_drag\":\"auto\",\"active_inspect\":\"auto\",\"active_multi\":null,\"active_scroll\":\"auto\",\"active_tap\":\"auto\",\"tools\":[{\"id\":\"1163\"},{\"id\":\"1183\"},{\"id\":\"1184\"},{\"id\":\"1185\"},{\"id\":\"1186\"},{\"id\":\"1187\"},{\"id\":\"1188\"},{\"id\":\"1189\"}]},\"id\":\"1190\",\"type\":\"Toolbar\"},{\"attributes\":{\"active_drag\":\"auto\",\"active_inspect\":\"auto\",\"active_multi\":null,\"active_scroll\":\"auto\",\"active_tap\":\"auto\",\"tools\":[{\"id\":\"1247\"},{\"id\":\"1266\"},{\"id\":\"1267\"},{\"id\":\"1268\"},{\"id\":\"1269\"},{\"id\":\"1270\"},{\"id\":\"1271\"},{\"id\":\"1272\"}]},\"id\":\"1273\",\"type\":\"Toolbar\"},{\"attributes\":{\"text\":\"Objective vs mini_batch_size\"},\"id\":\"1165\",\"type\":\"Title\"},{\"attributes\":{},\"id\":\"1213\",\"type\":\"LinearScale\"},{\"attributes\":{},\"id\":\"1318\",\"type\":\"BasicTickFormatter\"},{\"attributes\":{\"fill_color\":{\"value\":\"#1f77b4\"},\"line_color\":{\"value\":\"#1f77b4\"},\"x\":{\"field\":\"learning_rate\"},\"y\":{\"field\":\"FinalObjectiveValue\"}},\"id\":\"1243\",\"type\":\"Circle\"},{\"attributes\":{\"below\":[{\"id\":\"1175\"}],\"center\":[{\"id\":\"1178\"},{\"id\":\"1182\"}],\"left\":[{\"id\":\"1179\"}],\"plot_height\":500,\"plot_width\":500,\"renderers\":[{\"id\":\"1203\"}],\"title\":{\"id\":\"1165\"},\"toolbar\":{\"id\":\"1190\"},\"x_range\":{\"id\":\"1167\"},\"x_scale\":{\"id\":\"1171\"},\"y_range\":{\"id\":\"1169\"},\"y_scale\":{\"id\":\"1173\"}},\"id\":\"1164\",\"subtype\":\"Figure\",\"type\":\"Plot\"},{\"attributes\":{\"active_drag\":\"auto\",\"active_inspect\":\"auto\",\"active_multi\":null,\"active_scroll\":\"auto\",\"active_tap\":\"auto\",\"tools\":[{\"id\":\"1205\"},{\"id\":\"1225\"},{\"id\":\"1226\"},{\"id\":\"1227\"},{\"id\":\"1228\"},{\"id\":\"1229\"},{\"id\":\"1230\"},{\"id\":\"1231\"}]},\"id\":\"1232\",\"type\":\"Toolbar\"},{\"attributes\":{},\"id\":\"1316\",\"type\":\"BasicTickFormatter\"},{\"attributes\":{},\"id\":\"1171\",\"type\":\"LinearScale\"},{\"attributes\":{\"data_source\":{\"id\":\"1282\"},\"glyph\":{\"id\":\"1284\"},\"hover_glyph\":null,\"muted_glyph\":null,\"nonselection_glyph\":{\"id\":\"1285\"},\"selection_glyph\":null,\"view\":{\"id\":\"1287\"}},\"id\":\"1286\",\"type\":\"GlyphRenderer\"},{\"attributes\":{},\"id\":\"1314\",\"type\":\"BasicTickFormatter\"},{\"attributes\":{},\"id\":\"1167\",\"type\":\"DataRange1d\"},{\"attributes\":{},\"id\":\"1320\",\"type\":\"BasicTickFormatter\"},{\"attributes\":{\"source\":{\"id\":\"1282\"}},\"id\":\"1287\",\"type\":\"CDSView\"},{\"attributes\":{},\"id\":\"1169\",\"type\":\"DataRange1d\"},{\"attributes\":{},\"id\":\"1322\",\"type\":\"CategoricalTickFormatter\"},{\"attributes\":{\"axis_label\":\"mini_batch_size\",\"formatter\":{\"id\":\"1314\"},\"ticker\":{\"id\":\"1176\"}},\"id\":\"1175\",\"type\":\"LinearAxis\"},{\"attributes\":{},\"id\":\"1324\",\"type\":\"Selection\"},{\"attributes\":{},\"id\":\"1173\",\"type\":\"LinearScale\"},{\"attributes\":{},\"id\":\"1325\",\"type\":\"UnionRenderers\"},{\"attributes\":{},\"id\":\"1176\",\"type\":\"BasicTicker\"},{\"attributes\":{\"fill_color\":{\"value\":\"#1f77b4\"},\"line_color\":{\"value\":\"#1f77b4\"},\"x\":{\"field\":\"optimizer\"},\"y\":{\"field\":\"FinalObjectiveValue\"}},\"id\":\"1284\",\"type\":\"Circle\"},{\"attributes\":{},\"id\":\"1326\",\"type\":\"Selection\"},{\"attributes\":{\"axis\":{\"id\":\"1175\"},\"ticker\":null},\"id\":\"1178\",\"type\":\"Grid\"},{\"attributes\":{},\"id\":\"1327\",\"type\":\"UnionRenderers\"},{\"attributes\":{\"axis\":{\"id\":\"1179\"},\"dimension\":1,\"ticker\":null},\"id\":\"1182\",\"type\":\"Grid\"},{\"attributes\":{},\"id\":\"1183\",\"type\":\"PanTool\"},{\"attributes\":{\"data\":{\"FinalObjectiveValue\":{\"__ndarray__\":\"AAAAoNrE6j8AAAAgdzzqPwAAAICsGeo/AAAAgA0I6j8AAACAljzpPwAAAGDrJ+k/AAAAANsl6T8AAACgbiDpPwAAAOC+AOk/AAAAIITy6D8AAACgP3voPwAAAGBkO+g/AAAAYHHj5z8AAADASdPnPwAAAMA2jec/AAAAIKQ15z8AAACAd53mPwAAAODmYuU/AAAAwPgw5T8AAABAP2HkPwAAAACaluM/AAAAoKcs4z8=\",\"dtype\":\"float64\",\"order\":\"little\",\"shape\":[22]},\"TrainingElapsedTimeSeconds\":{\"__ndarray__\":\"AAAAAAAatkAAAAAAAK6uQAAAAAAAb7hAAAAAAAAwnkAAAAAAANiUQAAAAAAAKItAAAAAAADaoEAAAAAAAPCNQAAAAAAAWIZAAAAAAAAqoUAAAAAAAMClQAAAAAAA5JVAAAAAAACslUAAAAAAANyYQAAAAAAA/rxAAAAAAIAUwkAAAAAAAJCYQAAAAAAASJVAAAAAAACUmEAAAAAAADymQAAAAAAAtJRAAAAAAADwlEA=\",\"dtype\":\"float64\",\"order\":\"little\",\"shape\":[22]},\"TrainingEndTime\":{\"__ndarray__\":\"AIBp2tPDd0IAAE5I2cN3QgCAa+vew3dCAACPNN7Dd0IAgHixz8N3QgAAJcrBw3dCAIAyHM7Dd0IAAPwB4MN3QgAA8aLCw3dCAIDNF87Dd0IAAD252MN3QgCA9+DVw3dCAABaXtXDd0IAAOrV0sN3QgAAb+HJw3dCAIBDycnDd0IAAHXUy8N3QgAAilzUw3dCAADy1MvDd0IAgEUt3MN3QgAAv6Pfw3dCAICKJdHDd0I=\",\"dtype\":\"float64\",\"order\":\"little\",\"shape\":[22]},\"TrainingJobName\":[\"34LPT-imageclass-job-01-13-29-44-009-e214dfe7\",\"34LPT-imageclass-job-01-13-29-44-016-2ef16ef3\",\"34LPT-imageclass-job-01-13-29-44-018-6b93f870\",\"34LPT-imageclass-job-01-13-29-44-020-e371c0f7\",\"34LPT-imageclass-job-01-13-29-44-010-7088e7d7\",\"34LPT-imageclass-job-01-13-29-44-002-8108ccc2\",\"34LPT-imageclass-job-01-13-29-44-008-c7259e40\",\"34LPT-imageclass-job-01-13-29-44-022-2100f34f\",\"34LPT-imageclass-job-01-13-29-44-003-b0ec9d6a\",\"34LPT-imageclass-job-01-13-29-44-007-02220c3b\",\"34LPT-imageclass-job-01-13-29-44-017-8a14e119\",\"34LPT-imageclass-job-01-13-29-44-015-355b2483\",\"34LPT-imageclass-job-01-13-29-44-014-1b91fe8b\",\"34LPT-imageclass-job-01-13-29-44-012-ce6cc8b7\",\"34LPT-imageclass-job-01-13-29-44-004-b5987d52\",\"34LPT-imageclass-job-01-13-29-44-001-a1e9ac77\",\"34LPT-imageclass-job-01-13-29-44-005-30de36c8\",\"34LPT-imageclass-job-01-13-29-44-013-4959ab0a\",\"34LPT-imageclass-job-01-13-29-44-006-6455f272\",\"34LPT-imageclass-job-01-13-29-44-019-c3b5ed03\",\"34LPT-imageclass-job-01-13-29-44-021-5e684550\",\"34LPT-imageclass-job-01-13-29-44-011-d63c51c0\"],\"TrainingJobStatus\":[\"Stopped\",\"Stopped\",\"Stopped\",\"Stopped\",\"Stopped\",\"Stopped\",\"Stopped\",\"Stopped\",\"Stopped\",\"Stopped\",\"Stopped\",\"Stopped\",\"Stopped\",\"Stopped\",\"Stopped\",\"Stopped\",\"Stopped\",\"Stopped\",\"Stopped\",\"Stopped\",\"Stopped\",\"Stopped\"],\"TrainingStartTime\":{\"__ndarray__\":\"AIAQdc7Dd0IAgJCJ1cN3QgAAUvTYw3dCAADhXNzDd0IAgMlrzsN3QgCA/PXAw3dCAACWDczDd0IAABkY38N3QgCAYfTBw3dCAABt/8vDd0IAAI0R1sN3QgAA7YrUw3dCAIC6C9TDd0IAgHxR0cN3QgAAbM3Cw3dCAABB9cDDd0IAAKtUysN3QgAABRDTw3dCAIDpVMrDd0IAgHJ22cN3QgCAQmDew3dCAIBk3s/Dd0I=\",\"dtype\":\"float64\",\"order\":\"little\",\"shape\":[22]},\"index\":[14,7,5,3,13,21,15,1,20,16,6,8,9,11,19,22,18,10,17,4,2,12],\"learning_rate\":{\"__ndarray__\":\"9jpcSwZAYj/dS0ofKo5jPxHB8J05qGI/IMMWNaCEOT92lRfR+tFcP4vuRUABt1c/6FUI53uqXD/v//UAwR5fPwzrIUw0iu0+XXYaP0n18D4Xo3FsCuLyPtuh+rIz9GQ/hUEIXYq7gj+oVC3pTCVLP7vZwOAjvnQ/N9O00hxWKj8n9T62Z0D5PgJeRqG2HoA/jgF768zg6z5vM73niwFpPyTQoxWgJFA/3HT6uSWLZT8=\",\"dtype\":\"float64\",\"order\":\"little\",\"shape\":[22]},\"mini_batch_size\":{\"__ndarray__\":\"AAAAAACAQUAAAAAAAIBBQAAAAAAAADxAAAAAAAAASkAAAAAAAABPQAAAAAAAgE5AAAAAAAAAR0AAAAAAAAA+QAAAAAAAAERAAAAAAAAAREAAAAAAAABAQAAAAAAAgEFAAAAAAACATEAAAAAAAABCQAAAAAAAgExAAAAAAACASEAAAAAAAAA8QAAAAAAAAERAAAAAAACATkAAAAAAAAAwQAAAAAAAgE5AAAAAAACAQkA=\",\"dtype\":\"float64\",\"order\":\"little\",\"shape\":[22]},\"optimizer\":[\"sgd\",\"sgd\",\"sgd\",\"sgd\",\"sgd\",\"nag\",\"nag\",\"sgd\",\"adam\",\"adam\",\"adam\",\"sgd\",\"sgd\",\"sgd\",\"nag\",\"adam\",\"sgd\",\"sgd\",\"nag\",\"nag\",\"adam\",\"adam\"]},\"selected\":{\"id\":\"1324\"},\"selection_policy\":{\"id\":\"1325\"}},\"id\":\"1199\",\"type\":\"ColumnDataSource\"},{\"attributes\":{\"fill_color\":{\"value\":\"#1f77b4\"},\"line_color\":{\"value\":\"#1f77b4\"},\"x\":{\"field\":\"mini_batch_size\"},\"y\":{\"field\":\"FinalObjectiveValue\"}},\"id\":\"1201\",\"type\":\"Circle\"},{\"attributes\":{},\"id\":\"1184\",\"type\":\"CrosshairTool\"},{\"attributes\":{},\"id\":\"1188\",\"type\":\"UndoTool\"},{\"attributes\":{},\"id\":\"1185\",\"type\":\"WheelZoomTool\"},{\"attributes\":{},\"id\":\"1186\",\"type\":\"ZoomInTool\"},{\"attributes\":{\"callback\":null,\"tooltips\":[[\"FinalObjectiveValue\",\"@FinalObjectiveValue\"],[\"TrainingJobName\",\"@TrainingJobName\"],[\"mini_batch_size\",\"@{mini_batch_size}\"],[\"learning_rate\",\"@{learning_rate}\"],[\"optimizer\",\"@{optimizer}\"]]},\"id\":\"1163\",\"type\":\"HoverTool\"},{\"attributes\":{},\"id\":\"1187\",\"type\":\"ZoomOutTool\"},{\"attributes\":{\"factors\":[\"sgd\",\"adam\",\"nag\"]},\"id\":\"1251\",\"type\":\"FactorRange\"},{\"attributes\":{},\"id\":\"1189\",\"type\":\"ResetTool\"}],\"root_ids\":[\"1288\"]},\"title\":\"Bokeh Application\",\"version\":\"2.2.3\"}};\n",
       "  var render_items = [{\"docid\":\"03ab89b6-37fc-43e4-b6eb-f93a3bde669f\",\"root_ids\":[\"1288\"],\"roots\":{\"1288\":\"6eda52fc-6eb2-45b6-a9ad-ae80bfce453d\"}}];\n",
       "  root.Bokeh.embed.embed_items_notebook(docs_json, render_items);\n",
       "\n",
       "  }\n",
       "  if (root.Bokeh !== undefined) {\n",
       "    embed_document(root);\n",
       "  } else {\n",
       "    var attempts = 0;\n",
       "    var timer = setInterval(function(root) {\n",
       "      if (root.Bokeh !== undefined) {\n",
       "        clearInterval(timer);\n",
       "        embed_document(root);\n",
       "      } else {\n",
       "        attempts++;\n",
       "        if (attempts > 100) {\n",
       "          clearInterval(timer);\n",
       "          console.log(\"Bokeh: ERROR: Unable to run BokehJS code because BokehJS library is missing\");\n",
       "        }\n",
       "      }\n",
       "    }, 10, root)\n",
       "  }\n",
       "})(window);"
      ],
      "application/vnd.bokehjs_exec.v0+json": ""
     },
     "metadata": {
      "application/vnd.bokehjs_exec.v0+json": {
       "id": "1288"
      }
     },
     "output_type": "display_data"
    }
   ],
   "source": [
    "#Create a graph for each hyperparameter to show its correlation with your objective metric\n",
    "ranges = tuner.tuning_ranges\n",
    "figures = []\n",
    "for hp_name, hp_range in ranges.items():\n",
    "    categorical_args = {}\n",
    "    if hp_range.get(\"Values\"):\n",
    "        # This is marked as categorical.  Check if all options are actually numbers.\n",
    "        def is_num(x):\n",
    "            try:\n",
    "                float(x)\n",
    "                return 1\n",
    "            except:\n",
    "                return 0\n",
    "\n",
    "        vals = hp_range[\"Values\"]\n",
    "        if sum([is_num(x) for x in vals]) == len(vals):\n",
    "            # Bokeh has issues plotting a \"categorical\" range that's actually numeric, so plot as numeric\n",
    "            print(\"Hyperparameter %s is tuned as categorical, but all values are numeric\" % hp_name)\n",
    "        else:\n",
    "            # Set up extra options for plotting categoricals.  A bit tricky when they're actually numbers.\n",
    "            categorical_args[\"x_range\"] = vals\n",
    "\n",
    "    # Now plot it\n",
    "    p = figure(\n",
    "        plot_width=500,\n",
    "        plot_height=500,\n",
    "        title=\"Objective vs %s\" % hp_name,\n",
    "        tools=hover.tools(),\n",
    "        x_axis_label=hp_name,\n",
    "        y_axis_label=objective_name,\n",
    "        **categorical_args,\n",
    "    )\n",
    "    p.circle(source=df, x=hp_name, y=\"FinalObjectiveValue\")\n",
    "    figures.append(p)\n",
    "show(bokeh.layouts.Column(*figures))"
   ]
  },
  {
   "cell_type": "markdown",
   "metadata": {},
   "source": [
    "![Performance vs. Mini Batch Size](https://github.com/jrbarclay37/PCam-Image-Classification/blob/main/images/BokehJS_mini_batch.PNG?raw=True)\n",
    "![Performance vs. Learning Rate](https://github.com/jrbarclay37/PCam-Image-Classification/blob/main/images/BokehJS_learning_rate.PNG?raw=True)\n",
    "![Performance vs. Optimizer](https://github.com/jrbarclay37/PCam-Image-Classification/blob/main/images/BokehJS_optimizer.PNG?raw=True)"
   ]
  },
  {
   "cell_type": "markdown",
   "metadata": {},
   "source": [
    "We observe that a learning rate close to 0.002 and mini batch size of 35 performed the best. Stochastic Gradient Descent also outperformed the other optimizers with the other default hyperparameters."
   ]
  },
  {
   "cell_type": "code",
   "execution_count": 39,
   "metadata": {},
   "outputs": [
    {
     "data": {
      "image/png": "[encoded data removed]",
      "text/plain": [
       "<Figure size 864x864 with 9 Axes>"
      ]
     },
     "metadata": {
      "needs_background": "light"
     },
     "output_type": "display_data"
    }
   ],
   "source": [
    "import matplotlib.pyplot as plt\n",
    "\n",
    "pd.plotting.scatter_matrix(\n",
    "    df[['FinalObjectiveValue','learning_rate', 'mini_batch_size']],\n",
    "    figsize=(12, 12)\n",
    ")\n",
    "plt.show()"
   ]
  },
  {
   "cell_type": "markdown",
   "metadata": {},
   "source": [
    "### d) Final hyperparameters selection\n",
    "* **num_layers**: 34\n",
    "* **augmentation_type**: `crop`\n",
    "* **epochs**: 10\n",
    "* **learning_rate**: 0.009\n",
    "* **lr_scheduler_factor**: 0.1\n",
    "* **lr_scheduler_step**: 2,6\n",
    "* **mini_batch_size**: 64\n",
    "* **optimizer**: `adam`\n",
    "* **precision_dtype**: `float16`\n",
    "* **use_pretrained_model**: 1\n",
    "* **eps**: 0.1"
   ]
  },
  {
   "cell_type": "markdown",
   "metadata": {},
   "source": [
    "## Conclusion\n",
    "\n",
    "Using our hyperparameter tuning results to inform additional rounds of tuning adjustments, we are able to improve from our initial 83% and achieve **89% accuracy** on the validation set through transfer learning with a pre-trained model and using a scheduled learning rate change to reduce by a factor of 0.1 after the 2nd epoch. \n",
    "\n",
    "Despite this improved performance, the training accuracy is still quite high (~96%) indicating that the model is overfitting. To solve for this problem, I tried experimenting with regularization terms (weight_decay, betas, etc.) in addition to more learning rate and mini batch size combinations. Unfortunately, these resulted in only marginal improvement and I exceeded my budget for the optimal hyperparameters search. \n",
    "\n",
    "With more time and funding, I believe it would be well spent on experimenting with the learning rate schedules to help the model converge. It is also possible that the quality of the data could be a limitation. We may benefit from applying more sophisticated data augmentation methods for this specific use-case where `crop_color_transform` may not be the best for histopathology images."
   ]
  }
 ],
 "metadata": {
  "celltoolbar": "Tags",
  "kernelspec": {
   "display_name": "conda_mxnet_p36",
   "language": "python",
   "name": "conda_mxnet_p36"
  },
  "language_info": {
   "codemirror_mode": {
    "name": "ipython",
    "version": 3
   },
   "file_extension": ".py",
   "mimetype": "text/x-python",
   "name": "python",
   "nbconvert_exporter": "python",
   "pygments_lexer": "ipython3",
   "version": "3.6.13"
  }
 },
 "nbformat": 4,
 "nbformat_minor": 2
}
